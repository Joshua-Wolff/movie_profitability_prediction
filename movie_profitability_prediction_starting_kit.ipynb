{
 "cells": [
  {
   "cell_type": "markdown",
   "metadata": {},
   "source": [
    "# Group Project Data Camp - Profitability prediction for movies \n",
    "\n",
    "### Kévin Assobo Baguéka, Antoine Gey, Robin Labbé, Ewan Sean, Joshua Wolff\n",
    "\n",
    "The aim of this project is to predict the rentability of a movie using its characteristics like budget, genre, cast and realization crew. We make the assumption that the producer want a minimum profitability ratio (lets say 2 : the film's revenue must be at least two times bigger than its budget). Films can now be separated in two classes : those that are enough lucrative and those that are not. The problem is then reduced at a binary classification problem."
   ]
  },
  {
   "cell_type": "code",
   "execution_count": 1,
   "metadata": {},
   "outputs": [],
   "source": [
    "# general\n",
    "import gc\n",
    "import numpy as np\n",
    "import pandas as pd\n",
    "from collections import Counter \n",
    "import seaborn as sns\n",
    "import matplotlib.pyplot as plt\n",
    "\n",
    "sns.set_theme(style=\"whitegrid\")\n",
    "%matplotlib inline\n",
    "\n",
    "# sklearn\n",
    "from sklearn.model_selection import train_test_split\n",
    "from sklearn.preprocessing import OneHotEncoder\n",
    "from sklearn.ensemble import VotingClassifier, GradientBoostingClassifier, AdaBoostClassifier, RandomForestClassifier\n",
    "from sklearn.metrics import accuracy_score\n",
    "from sklearn.model_selection import GridSearchCV"
   ]
  },
  {
   "cell_type": "markdown",
   "metadata": {},
   "source": [
    "## 0.0. Database query\n",
    "\n",
    "The data comes from `The Movie DataBase API (TMDB)`, but is not endorsed or certified by TMDB. We requested the database using the following python code, which is voluntarly commented because extremely time consuming (the $40.000$ lines we requested took approximately 9 hours to complete due to a data flow restrictions from the API)."
   ]
  },
  {
   "cell_type": "code",
   "execution_count": 2,
   "metadata": {},
   "outputs": [
    {
     "data": {
      "text/plain": [
       "'\\n\\n##\\n# Requêtes sur l\\'API TMDB \\n##\\n\\n# Librairies\\nimport tmdbsimple as tmdb\\nimport requests\\nimport json\\nfrom tqdm import tqdm\\n\\n# Clé de l\\'API TMDB pour avoir l\\'autorisation de faire des requêtes\\ntmdb.API_KEY = \\'4774cbd440f2c43e617d50c2b663cfcf\\'\\n\\n# On récupère les données relatives aux films produits entre 2015 et 2018\\nlist_years = [i for i in range(2015,2019)] # années allant de 2015 à 2018\\nfilms_id = [] # Pour stocker les identifiants uniques des films\\nfilms_infos = [] # Pour stocker les informations générales sur les films\\nfilms_credits = [] # Pour stocker les castings / équipes des films\\n\\n# Récupération des identifiants uniques\\nprint(\"\\nRequest ID :\")\\nfor year in tqdm(list_years) :\\n    new_results = True\\n    page = 1\\n    while new_results :\\n        res = requests.get(\"https://api.themoviedb.org/3/discover/movie?include_adult=false&api_key=\"+tmdb.API_KEY+f\"&year={year}\"+f\"&page={page}\").json()\\n        new_results = res.get(\"results\", [])\\n        films_id.extend(new_results)\\n        page += 1\\n\\nfilms_id = [film[\"id\"] for film in films_id] # On ne conserve que les identifiants\\n\\n# On doit effectuer une autre série de requêtes à partir des identifiants précédents\\n# pour avoir accès aux informations et aux crédits (casting + équipe de tournage / production)\\nprint(\"\\nRequest informations :\")\\nfor id in tqdm(films_id) : \\n    url_infos = \"https://api.themoviedb.org/3/movie/\"+str(id)+\"?api_key=\"+tmdb.API_KEY\\n    url_credits = \"https://api.themoviedb.org/3/movie/\"+str(id)+\"/credits?api_key=\"+tmdb.API_KEY\\n    films_infos.append(requests.get(url_infos).json())\\n    films_credits.append(requests.get(url_credits).json())\\n\\n# Sauvegarde des données\\nwith open(\"/Users/joshuawolff/Documents/Github/TMDB_movies_project/films_infos.json\", \"w\") as fout:\\n    json.dump(films_infos, fout)\\nwith open(\"/Users/joshuawolff/Documents/Github/TMDB_movies_project/films_credits.json\", \"w\") as fout:\\n    json.dump(films_credits, fout)\\n\\nprint(\"\\n--------- END ---------\\n\")\\n\\n\\n'"
      ]
     },
     "execution_count": 2,
     "metadata": {},
     "output_type": "execute_result"
    }
   ],
   "source": [
    "'''\n",
    "\n",
    "##\n",
    "# Requêtes sur l'API TMDB \n",
    "##\n",
    "\n",
    "# Librairies\n",
    "import tmdbsimple as tmdb\n",
    "import requests\n",
    "import json\n",
    "from tqdm import tqdm\n",
    "\n",
    "# Clé de l'API TMDB pour avoir l'autorisation de faire des requêtes\n",
    "tmdb.API_KEY = '4774cbd440f2c43e617d50c2b663cfcf'\n",
    "\n",
    "# On récupère les données relatives aux films produits entre 2015 et 2018\n",
    "list_years = [i for i in range(2015,2019)] # années allant de 2015 à 2018\n",
    "films_id = [] # Pour stocker les identifiants uniques des films\n",
    "films_infos = [] # Pour stocker les informations générales sur les films\n",
    "films_credits = [] # Pour stocker les castings / équipes des films\n",
    "\n",
    "# Récupération des identifiants uniques\n",
    "print(\"\\nRequest ID :\")\n",
    "for year in tqdm(list_years) :\n",
    "    new_results = True\n",
    "    page = 1\n",
    "    while new_results :\n",
    "        res = requests.get(\"https://api.themoviedb.org/3/discover/movie?include_adult=false&api_key=\"+tmdb.API_KEY+f\"&year={year}\"+f\"&page={page}\").json()\n",
    "        new_results = res.get(\"results\", [])\n",
    "        films_id.extend(new_results)\n",
    "        page += 1\n",
    "\n",
    "films_id = [film[\"id\"] for film in films_id] # On ne conserve que les identifiants\n",
    "\n",
    "# On doit effectuer une autre série de requêtes à partir des identifiants précédents\n",
    "# pour avoir accès aux informations et aux crédits (casting + équipe de tournage / production)\n",
    "print(\"\\nRequest informations :\")\n",
    "for id in tqdm(films_id) : \n",
    "    url_infos = \"https://api.themoviedb.org/3/movie/\"+str(id)+\"?api_key=\"+tmdb.API_KEY\n",
    "    url_credits = \"https://api.themoviedb.org/3/movie/\"+str(id)+\"/credits?api_key=\"+tmdb.API_KEY\n",
    "    films_infos.append(requests.get(url_infos).json())\n",
    "    films_credits.append(requests.get(url_credits).json())\n",
    "\n",
    "# Sauvegarde des données\n",
    "with open(\"/Users/joshuawolff/Documents/Github/TMDB_movies_project/films_infos.json\", \"w\") as fout:\n",
    "    json.dump(films_infos, fout)\n",
    "with open(\"/Users/joshuawolff/Documents/Github/TMDB_movies_project/films_credits.json\", \"w\") as fout:\n",
    "    json.dump(films_credits, fout)\n",
    "\n",
    "print(\"\\n--------- END ---------\\n\")\n",
    "\n",
    "\n",
    "'''"
   ]
  },
  {
   "cell_type": "markdown",
   "metadata": {},
   "source": [
    "## 0.1. Data loading \n",
    "\n",
    "The two following JSON files are obtained from TMDB API using the previous code."
   ]
  },
  {
   "cell_type": "code",
   "execution_count": 5,
   "metadata": {},
   "outputs": [],
   "source": [
    "films_credits = pd.read_json(\"data/raw/films_credits.json.zip\")\n",
    "films_infos = pd.read_json(\"data/raw/films_infos.json\")\n"
   ]
  },
  {
   "cell_type": "code",
   "execution_count": 4,
   "metadata": {},
   "outputs": [
    {
     "data": {
      "text/html": [
       "<div>\n",
       "<style scoped>\n",
       "    .dataframe tbody tr th:only-of-type {\n",
       "        vertical-align: middle;\n",
       "    }\n",
       "\n",
       "    .dataframe tbody tr th {\n",
       "        vertical-align: top;\n",
       "    }\n",
       "\n",
       "    .dataframe thead th {\n",
       "        text-align: right;\n",
       "    }\n",
       "</style>\n",
       "<table border=\"1\" class=\"dataframe\">\n",
       "  <thead>\n",
       "    <tr style=\"text-align: right;\">\n",
       "      <th></th>\n",
       "      <th>adult</th>\n",
       "      <th>backdrop_path</th>\n",
       "      <th>belongs_to_collection</th>\n",
       "      <th>budget</th>\n",
       "      <th>genres</th>\n",
       "      <th>homepage</th>\n",
       "      <th>id</th>\n",
       "      <th>imdb_id</th>\n",
       "      <th>original_language</th>\n",
       "      <th>original_title</th>\n",
       "      <th>...</th>\n",
       "      <th>release_date</th>\n",
       "      <th>revenue</th>\n",
       "      <th>runtime</th>\n",
       "      <th>spoken_languages</th>\n",
       "      <th>status</th>\n",
       "      <th>tagline</th>\n",
       "      <th>title</th>\n",
       "      <th>video</th>\n",
       "      <th>vote_average</th>\n",
       "      <th>vote_count</th>\n",
       "    </tr>\n",
       "  </thead>\n",
       "  <tbody>\n",
       "    <tr>\n",
       "      <th>0</th>\n",
       "      <td>False</td>\n",
       "      <td>/nNmJRkg8wWnRmzQDe2FwKbPIsJV.jpg</td>\n",
       "      <td>{'id': 86311, 'name': 'The Avengers Collection...</td>\n",
       "      <td>220000000</td>\n",
       "      <td>[{'id': 878, 'name': 'Science Fiction'}, {'id'...</td>\n",
       "      <td>http://marvel.com/avengers_movie/</td>\n",
       "      <td>24428</td>\n",
       "      <td>tt0848228</td>\n",
       "      <td>en</td>\n",
       "      <td>The Avengers</td>\n",
       "      <td>...</td>\n",
       "      <td>2012-04-25</td>\n",
       "      <td>1518815515</td>\n",
       "      <td>143.0</td>\n",
       "      <td>[{'english_name': 'English', 'iso_639_1': 'en'...</td>\n",
       "      <td>Released</td>\n",
       "      <td>Some assembly required.</td>\n",
       "      <td>The Avengers</td>\n",
       "      <td>False</td>\n",
       "      <td>7.7</td>\n",
       "      <td>26156</td>\n",
       "    </tr>\n",
       "    <tr>\n",
       "      <th>1</th>\n",
       "      <td>False</td>\n",
       "      <td>/kzIiKLccwuzD3qD5OHFyPIkiqEw.jpg</td>\n",
       "      <td>{'id': 23616, 'name': 'Naruto Collection', 'po...</td>\n",
       "      <td>1000000</td>\n",
       "      <td>[{'id': 28, 'name': 'Action'}, {'id': 10749, '...</td>\n",
       "      <td></td>\n",
       "      <td>317442</td>\n",
       "      <td>tt3717532</td>\n",
       "      <td>ja</td>\n",
       "      <td>The Last: Naruto the Movie</td>\n",
       "      <td>...</td>\n",
       "      <td>2014-12-06</td>\n",
       "      <td>16500000</td>\n",
       "      <td>114.0</td>\n",
       "      <td>[{'english_name': 'Japanese', 'iso_639_1': 'ja...</td>\n",
       "      <td>Released</td>\n",
       "      <td></td>\n",
       "      <td>The Last: Naruto the Movie</td>\n",
       "      <td>False</td>\n",
       "      <td>7.9</td>\n",
       "      <td>1116</td>\n",
       "    </tr>\n",
       "    <tr>\n",
       "      <th>2</th>\n",
       "      <td>False</td>\n",
       "      <td>/xnqust9Li4oxfhXD5kcPi3UC8i4.jpg</td>\n",
       "      <td>{'id': 86311, 'name': 'The Avengers Collection...</td>\n",
       "      <td>365000000</td>\n",
       "      <td>[{'id': 28, 'name': 'Action'}, {'id': 12, 'nam...</td>\n",
       "      <td>http://marvel.com/movies/movie/193/avengers_ag...</td>\n",
       "      <td>99861</td>\n",
       "      <td>tt2395427</td>\n",
       "      <td>en</td>\n",
       "      <td>Avengers: Age of Ultron</td>\n",
       "      <td>...</td>\n",
       "      <td>2015-04-22</td>\n",
       "      <td>1405403694</td>\n",
       "      <td>141.0</td>\n",
       "      <td>[{'english_name': 'English', 'iso_639_1': 'en'...</td>\n",
       "      <td>Released</td>\n",
       "      <td>A New Age Has Come.</td>\n",
       "      <td>Avengers: Age of Ultron</td>\n",
       "      <td>False</td>\n",
       "      <td>7.3</td>\n",
       "      <td>19169</td>\n",
       "    </tr>\n",
       "  </tbody>\n",
       "</table>\n",
       "<p>3 rows × 25 columns</p>\n",
       "</div>"
      ],
      "text/plain": [
       "   adult                     backdrop_path  \\\n",
       "0  False  /nNmJRkg8wWnRmzQDe2FwKbPIsJV.jpg   \n",
       "1  False  /kzIiKLccwuzD3qD5OHFyPIkiqEw.jpg   \n",
       "2  False  /xnqust9Li4oxfhXD5kcPi3UC8i4.jpg   \n",
       "\n",
       "                               belongs_to_collection     budget  \\\n",
       "0  {'id': 86311, 'name': 'The Avengers Collection...  220000000   \n",
       "1  {'id': 23616, 'name': 'Naruto Collection', 'po...    1000000   \n",
       "2  {'id': 86311, 'name': 'The Avengers Collection...  365000000   \n",
       "\n",
       "                                              genres  \\\n",
       "0  [{'id': 878, 'name': 'Science Fiction'}, {'id'...   \n",
       "1  [{'id': 28, 'name': 'Action'}, {'id': 10749, '...   \n",
       "2  [{'id': 28, 'name': 'Action'}, {'id': 12, 'nam...   \n",
       "\n",
       "                                            homepage      id    imdb_id  \\\n",
       "0                  http://marvel.com/avengers_movie/   24428  tt0848228   \n",
       "1                                                     317442  tt3717532   \n",
       "2  http://marvel.com/movies/movie/193/avengers_ag...   99861  tt2395427   \n",
       "\n",
       "  original_language              original_title  ... release_date     revenue  \\\n",
       "0                en                The Avengers  ...   2012-04-25  1518815515   \n",
       "1                ja  The Last: Naruto the Movie  ...   2014-12-06    16500000   \n",
       "2                en     Avengers: Age of Ultron  ...   2015-04-22  1405403694   \n",
       "\n",
       "  runtime                                   spoken_languages    status  \\\n",
       "0   143.0  [{'english_name': 'English', 'iso_639_1': 'en'...  Released   \n",
       "1   114.0  [{'english_name': 'Japanese', 'iso_639_1': 'ja...  Released   \n",
       "2   141.0  [{'english_name': 'English', 'iso_639_1': 'en'...  Released   \n",
       "\n",
       "                   tagline                       title  video vote_average  \\\n",
       "0  Some assembly required.                The Avengers  False          7.7   \n",
       "1                           The Last: Naruto the Movie  False          7.9   \n",
       "2      A New Age Has Come.     Avengers: Age of Ultron  False          7.3   \n",
       "\n",
       "  vote_count  \n",
       "0      26156  \n",
       "1       1116  \n",
       "2      19169  \n",
       "\n",
       "[3 rows x 25 columns]"
      ]
     },
     "execution_count": 4,
     "metadata": {},
     "output_type": "execute_result"
    }
   ],
   "source": [
    "films_infos.head(3)"
   ]
  },
  {
   "cell_type": "code",
   "execution_count": 5,
   "metadata": {},
   "outputs": [
    {
     "data": {
      "text/html": [
       "<div>\n",
       "<style scoped>\n",
       "    .dataframe tbody tr th:only-of-type {\n",
       "        vertical-align: middle;\n",
       "    }\n",
       "\n",
       "    .dataframe tbody tr th {\n",
       "        vertical-align: top;\n",
       "    }\n",
       "\n",
       "    .dataframe thead th {\n",
       "        text-align: right;\n",
       "    }\n",
       "</style>\n",
       "<table border=\"1\" class=\"dataframe\">\n",
       "  <thead>\n",
       "    <tr style=\"text-align: right;\">\n",
       "      <th></th>\n",
       "      <th>id</th>\n",
       "      <th>cast</th>\n",
       "      <th>crew</th>\n",
       "    </tr>\n",
       "  </thead>\n",
       "  <tbody>\n",
       "    <tr>\n",
       "      <th>0</th>\n",
       "      <td>24428</td>\n",
       "      <td>[{'adult': False, 'gender': 2, 'id': 3223, 'kn...</td>\n",
       "      <td>[{'adult': False, 'gender': 2, 'id': 37, 'know...</td>\n",
       "    </tr>\n",
       "    <tr>\n",
       "      <th>1</th>\n",
       "      <td>317442</td>\n",
       "      <td>[{'adult': False, 'gender': 1, 'id': 82055, 'k...</td>\n",
       "      <td>[{'adult': False, 'gender': 2, 'id': 80751, 'k...</td>\n",
       "    </tr>\n",
       "    <tr>\n",
       "      <th>2</th>\n",
       "      <td>99861</td>\n",
       "      <td>[{'adult': False, 'gender': 2, 'id': 3223, 'kn...</td>\n",
       "      <td>[{'adult': False, 'gender': 2, 'id': 531, 'kno...</td>\n",
       "    </tr>\n",
       "  </tbody>\n",
       "</table>\n",
       "</div>"
      ],
      "text/plain": [
       "       id                                               cast  \\\n",
       "0   24428  [{'adult': False, 'gender': 2, 'id': 3223, 'kn...   \n",
       "1  317442  [{'adult': False, 'gender': 1, 'id': 82055, 'k...   \n",
       "2   99861  [{'adult': False, 'gender': 2, 'id': 3223, 'kn...   \n",
       "\n",
       "                                                crew  \n",
       "0  [{'adult': False, 'gender': 2, 'id': 37, 'know...  \n",
       "1  [{'adult': False, 'gender': 2, 'id': 80751, 'k...  \n",
       "2  [{'adult': False, 'gender': 2, 'id': 531, 'kno...  "
      ]
     },
     "execution_count": 5,
     "metadata": {},
     "output_type": "execute_result"
    }
   ],
   "source": [
    "films_credits.head(3)"
   ]
  },
  {
   "cell_type": "markdown",
   "metadata": {},
   "source": [
    "## 1. Cleaning the data"
   ]
  },
  {
   "cell_type": "markdown",
   "metadata": {},
   "source": [
    "### 1.1. Remove duplicated rows"
   ]
  },
  {
   "cell_type": "code",
   "execution_count": 6,
   "metadata": {},
   "outputs": [
    {
     "name": "stdout",
     "output_type": "stream",
     "text": [
      "Number of movie identifiers in films_infos : 40000\n",
      "Number of movie identifiers in films_credits : 40000\n"
     ]
    }
   ],
   "source": [
    "print(\"Number of movie identifiers in films_infos :\", len(films_infos.id))\n",
    "print(\"Number of movie identifiers in films_credits :\", len(films_credits.id))"
   ]
  },
  {
   "cell_type": "code",
   "execution_count": 7,
   "metadata": {},
   "outputs": [
    {
     "name": "stdout",
     "output_type": "stream",
     "text": [
      "Number of unique movie identifiers in films_infos : 33689\n",
      "Number of unique movie identifiers in films_credits : 33689\n"
     ]
    }
   ],
   "source": [
    "print(\"Number of unique movie identifiers in films_infos :\", films_infos.id.nunique())\n",
    "print(\"Number of unique movie identifiers in films_credits :\", films_credits.id.nunique())"
   ]
  },
  {
   "cell_type": "markdown",
   "metadata": {},
   "source": [
    "As we can see from above, there are duplicated movies in our data. Therefore we will remove duplicated rows."
   ]
  },
  {
   "cell_type": "code",
   "execution_count": 8,
   "metadata": {},
   "outputs": [
    {
     "name": "stdout",
     "output_type": "stream",
     "text": [
      "films_infos's length : 33689\n",
      "films_credits's length : 33689\n"
     ]
    }
   ],
   "source": [
    "films_infos = films_infos.drop_duplicates(subset='id')\n",
    "films_credits = films_credits.drop_duplicates(subset='id')\n",
    "\n",
    "print(\"films_infos's length :\", len(films_infos))\n",
    "print(\"films_credits's length :\", len(films_credits))"
   ]
  },
  {
   "cell_type": "markdown",
   "metadata": {},
   "source": [
    "Now we can merge the two tables."
   ]
  },
  {
   "cell_type": "code",
   "execution_count": 9,
   "metadata": {},
   "outputs": [
    {
     "name": "stdout",
     "output_type": "stream",
     "text": [
      "Length of the merged table : 33689\n"
     ]
    }
   ],
   "source": [
    "films_df = films_infos.merge(\n",
    "    films_credits,\n",
    "    how=\"left\",\n",
    "    on=\"id\",  \n",
    ")\n",
    "\n",
    "print(\"Length of the merged table :\", len(films_df))"
   ]
  },
  {
   "cell_type": "code",
   "execution_count": 10,
   "metadata": {},
   "outputs": [
    {
     "data": {
      "text/plain": [
       "0"
      ]
     },
     "execution_count": 10,
     "metadata": {},
     "output_type": "execute_result"
    }
   ],
   "source": [
    "del films_infos, films_credits\n",
    "gc.collect()"
   ]
  },
  {
   "cell_type": "markdown",
   "metadata": {},
   "source": [
    "### 1.2. Remove useless columns"
   ]
  },
  {
   "cell_type": "code",
   "execution_count": 11,
   "metadata": {},
   "outputs": [
    {
     "data": {
      "text/plain": [
       "Index(['adult', 'backdrop_path', 'belongs_to_collection', 'budget', 'genres',\n",
       "       'homepage', 'id', 'imdb_id', 'original_language', 'original_title',\n",
       "       'overview', 'popularity', 'poster_path', 'production_companies',\n",
       "       'production_countries', 'release_date', 'revenue', 'runtime',\n",
       "       'spoken_languages', 'status', 'tagline', 'title', 'video',\n",
       "       'vote_average', 'vote_count', 'cast', 'crew'],\n",
       "      dtype='object')"
      ]
     },
     "execution_count": 11,
     "metadata": {},
     "output_type": "execute_result"
    }
   ],
   "source": [
    "films_df.columns"
   ]
  },
  {
   "cell_type": "code",
   "execution_count": 12,
   "metadata": {},
   "outputs": [
    {
     "data": {
      "text/plain": [
       "array([False])"
      ]
     },
     "execution_count": 12,
     "metadata": {},
     "output_type": "execute_result"
    }
   ],
   "source": [
    "films_df['adult'].unique()"
   ]
  },
  {
   "cell_type": "markdown",
   "metadata": {},
   "source": [
    "There are many columns in the table, and some of them will not be useful for our model. We will remove the following :\n",
    "- `adult` : because all the rows have the same value 'False'\n",
    "- `backdrop_path`, `poster_path` : these columns are just links\n",
    "- `imdb_id` : this one have some empty values and we already have the `id` column\n",
    "- `overview` : represents the synopsis of the movie. We could process this using NLP techniques but we want to keep our model simple.\n",
    "- `popularity`, `vote_average`, `vote_count` : our model is not supposed to use features that are measured after the movie is released.\n",
    "- `status`: all the movies in the data are already been released"
   ]
  },
  {
   "cell_type": "code",
   "execution_count": 13,
   "metadata": {},
   "outputs": [
    {
     "data": {
      "text/html": [
       "<div>\n",
       "<style scoped>\n",
       "    .dataframe tbody tr th:only-of-type {\n",
       "        vertical-align: middle;\n",
       "    }\n",
       "\n",
       "    .dataframe tbody tr th {\n",
       "        vertical-align: top;\n",
       "    }\n",
       "\n",
       "    .dataframe thead th {\n",
       "        text-align: right;\n",
       "    }\n",
       "</style>\n",
       "<table border=\"1\" class=\"dataframe\">\n",
       "  <thead>\n",
       "    <tr style=\"text-align: right;\">\n",
       "      <th></th>\n",
       "      <th>id</th>\n",
       "      <th>original_title</th>\n",
       "      <th>belongs_to_collection</th>\n",
       "      <th>release_date</th>\n",
       "      <th>runtime</th>\n",
       "      <th>budget</th>\n",
       "      <th>genres</th>\n",
       "      <th>original_language</th>\n",
       "      <th>spoken_languages</th>\n",
       "      <th>production_companies</th>\n",
       "      <th>production_countries</th>\n",
       "      <th>cast</th>\n",
       "      <th>crew</th>\n",
       "      <th>tagline</th>\n",
       "      <th>homepage</th>\n",
       "      <th>revenue</th>\n",
       "    </tr>\n",
       "  </thead>\n",
       "  <tbody>\n",
       "    <tr>\n",
       "      <th>0</th>\n",
       "      <td>24428</td>\n",
       "      <td>The Avengers</td>\n",
       "      <td>{'id': 86311, 'name': 'The Avengers Collection...</td>\n",
       "      <td>2012-04-25</td>\n",
       "      <td>143.0</td>\n",
       "      <td>220000000</td>\n",
       "      <td>[{'id': 878, 'name': 'Science Fiction'}, {'id'...</td>\n",
       "      <td>en</td>\n",
       "      <td>[{'english_name': 'English', 'iso_639_1': 'en'...</td>\n",
       "      <td>[{'id': 420, 'logo_path': '/hUzeosd33nzE5MCNsZ...</td>\n",
       "      <td>[{'iso_3166_1': 'US', 'name': 'United States o...</td>\n",
       "      <td>[{'adult': False, 'gender': 2, 'id': 3223, 'kn...</td>\n",
       "      <td>[{'adult': False, 'gender': 2, 'id': 37, 'know...</td>\n",
       "      <td>Some assembly required.</td>\n",
       "      <td>http://marvel.com/avengers_movie/</td>\n",
       "      <td>1518815515</td>\n",
       "    </tr>\n",
       "    <tr>\n",
       "      <th>1</th>\n",
       "      <td>317442</td>\n",
       "      <td>The Last: Naruto the Movie</td>\n",
       "      <td>{'id': 23616, 'name': 'Naruto Collection', 'po...</td>\n",
       "      <td>2014-12-06</td>\n",
       "      <td>114.0</td>\n",
       "      <td>1000000</td>\n",
       "      <td>[{'id': 28, 'name': 'Action'}, {'id': 10749, '...</td>\n",
       "      <td>ja</td>\n",
       "      <td>[{'english_name': 'Japanese', 'iso_639_1': 'ja...</td>\n",
       "      <td>[{'id': 2883, 'logo_path': '/rDYExnBV61jGQnkhV...</td>\n",
       "      <td>[{'iso_3166_1': 'JP', 'name': 'Japan'}]</td>\n",
       "      <td>[{'adult': False, 'gender': 1, 'id': 82055, 'k...</td>\n",
       "      <td>[{'adult': False, 'gender': 2, 'id': 80751, 'k...</td>\n",
       "      <td></td>\n",
       "      <td></td>\n",
       "      <td>16500000</td>\n",
       "    </tr>\n",
       "  </tbody>\n",
       "</table>\n",
       "</div>"
      ],
      "text/plain": [
       "       id              original_title  \\\n",
       "0   24428                The Avengers   \n",
       "1  317442  The Last: Naruto the Movie   \n",
       "\n",
       "                               belongs_to_collection release_date  runtime  \\\n",
       "0  {'id': 86311, 'name': 'The Avengers Collection...   2012-04-25    143.0   \n",
       "1  {'id': 23616, 'name': 'Naruto Collection', 'po...   2014-12-06    114.0   \n",
       "\n",
       "      budget                                             genres  \\\n",
       "0  220000000  [{'id': 878, 'name': 'Science Fiction'}, {'id'...   \n",
       "1    1000000  [{'id': 28, 'name': 'Action'}, {'id': 10749, '...   \n",
       "\n",
       "  original_language                                   spoken_languages  \\\n",
       "0                en  [{'english_name': 'English', 'iso_639_1': 'en'...   \n",
       "1                ja  [{'english_name': 'Japanese', 'iso_639_1': 'ja...   \n",
       "\n",
       "                                production_companies  \\\n",
       "0  [{'id': 420, 'logo_path': '/hUzeosd33nzE5MCNsZ...   \n",
       "1  [{'id': 2883, 'logo_path': '/rDYExnBV61jGQnkhV...   \n",
       "\n",
       "                                production_countries  \\\n",
       "0  [{'iso_3166_1': 'US', 'name': 'United States o...   \n",
       "1            [{'iso_3166_1': 'JP', 'name': 'Japan'}]   \n",
       "\n",
       "                                                cast  \\\n",
       "0  [{'adult': False, 'gender': 2, 'id': 3223, 'kn...   \n",
       "1  [{'adult': False, 'gender': 1, 'id': 82055, 'k...   \n",
       "\n",
       "                                                crew                  tagline  \\\n",
       "0  [{'adult': False, 'gender': 2, 'id': 37, 'know...  Some assembly required.   \n",
       "1  [{'adult': False, 'gender': 2, 'id': 80751, 'k...                            \n",
       "\n",
       "                            homepage     revenue  \n",
       "0  http://marvel.com/avengers_movie/  1518815515  \n",
       "1                                       16500000  "
      ]
     },
     "execution_count": 13,
     "metadata": {},
     "output_type": "execute_result"
    }
   ],
   "source": [
    "useful_columns = ['id', 'original_title', 'belongs_to_collection', 'release_date', 'runtime', 'budget', 'genres', \\\n",
    "     'original_language', 'spoken_languages',  'production_companies', 'production_countries', \\\n",
    "     'cast', 'crew', 'tagline', 'homepage', 'revenue']\n",
    "\n",
    "films_df = films_df[useful_columns]\n",
    "\n",
    "films_df.head(2)"
   ]
  },
  {
   "cell_type": "markdown",
   "metadata": {},
   "source": [
    "### 1.3. Dealing with missing values in the target"
   ]
  },
  {
   "cell_type": "markdown",
   "metadata": {},
   "source": [
    "Unfortunately, we do not have the budget and the revenue for all the movies."
   ]
  },
  {
   "cell_type": "code",
   "execution_count": 14,
   "metadata": {},
   "outputs": [
    {
     "data": {
      "text/html": [
       "<div>\n",
       "<style scoped>\n",
       "    .dataframe tbody tr th:only-of-type {\n",
       "        vertical-align: middle;\n",
       "    }\n",
       "\n",
       "    .dataframe tbody tr th {\n",
       "        vertical-align: top;\n",
       "    }\n",
       "\n",
       "    .dataframe thead th {\n",
       "        text-align: right;\n",
       "    }\n",
       "</style>\n",
       "<table border=\"1\" class=\"dataframe\">\n",
       "  <thead>\n",
       "    <tr style=\"text-align: right;\">\n",
       "      <th></th>\n",
       "      <th>id</th>\n",
       "      <th>original_title</th>\n",
       "      <th>belongs_to_collection</th>\n",
       "      <th>release_date</th>\n",
       "      <th>runtime</th>\n",
       "      <th>budget</th>\n",
       "      <th>genres</th>\n",
       "      <th>original_language</th>\n",
       "      <th>spoken_languages</th>\n",
       "      <th>production_companies</th>\n",
       "      <th>production_countries</th>\n",
       "      <th>cast</th>\n",
       "      <th>crew</th>\n",
       "      <th>tagline</th>\n",
       "      <th>homepage</th>\n",
       "      <th>revenue</th>\n",
       "    </tr>\n",
       "  </thead>\n",
       "  <tbody>\n",
       "    <tr>\n",
       "      <th>0</th>\n",
       "      <td>24428</td>\n",
       "      <td>The Avengers</td>\n",
       "      <td>{'id': 86311, 'name': 'The Avengers Collection...</td>\n",
       "      <td>2012-04-25</td>\n",
       "      <td>143.0</td>\n",
       "      <td>220000000</td>\n",
       "      <td>[{'id': 878, 'name': 'Science Fiction'}, {'id'...</td>\n",
       "      <td>en</td>\n",
       "      <td>[{'english_name': 'English', 'iso_639_1': 'en'...</td>\n",
       "      <td>[{'id': 420, 'logo_path': '/hUzeosd33nzE5MCNsZ...</td>\n",
       "      <td>[{'iso_3166_1': 'US', 'name': 'United States o...</td>\n",
       "      <td>[{'adult': False, 'gender': 2, 'id': 3223, 'kn...</td>\n",
       "      <td>[{'adult': False, 'gender': 2, 'id': 37, 'know...</td>\n",
       "      <td>Some assembly required.</td>\n",
       "      <td>http://marvel.com/avengers_movie/</td>\n",
       "      <td>1518815515</td>\n",
       "    </tr>\n",
       "    <tr>\n",
       "      <th>1</th>\n",
       "      <td>317442</td>\n",
       "      <td>The Last: Naruto the Movie</td>\n",
       "      <td>{'id': 23616, 'name': 'Naruto Collection', 'po...</td>\n",
       "      <td>2014-12-06</td>\n",
       "      <td>114.0</td>\n",
       "      <td>1000000</td>\n",
       "      <td>[{'id': 28, 'name': 'Action'}, {'id': 10749, '...</td>\n",
       "      <td>ja</td>\n",
       "      <td>[{'english_name': 'Japanese', 'iso_639_1': 'ja...</td>\n",
       "      <td>[{'id': 2883, 'logo_path': '/rDYExnBV61jGQnkhV...</td>\n",
       "      <td>[{'iso_3166_1': 'JP', 'name': 'Japan'}]</td>\n",
       "      <td>[{'adult': False, 'gender': 1, 'id': 82055, 'k...</td>\n",
       "      <td>[{'adult': False, 'gender': 2, 'id': 80751, 'k...</td>\n",
       "      <td></td>\n",
       "      <td></td>\n",
       "      <td>16500000</td>\n",
       "    </tr>\n",
       "    <tr>\n",
       "      <th>2</th>\n",
       "      <td>99861</td>\n",
       "      <td>Avengers: Age of Ultron</td>\n",
       "      <td>{'id': 86311, 'name': 'The Avengers Collection...</td>\n",
       "      <td>2015-04-22</td>\n",
       "      <td>141.0</td>\n",
       "      <td>365000000</td>\n",
       "      <td>[{'id': 28, 'name': 'Action'}, {'id': 12, 'nam...</td>\n",
       "      <td>en</td>\n",
       "      <td>[{'english_name': 'English', 'iso_639_1': 'en'...</td>\n",
       "      <td>[{'id': 420, 'logo_path': '/hUzeosd33nzE5MCNsZ...</td>\n",
       "      <td>[{'iso_3166_1': 'US', 'name': 'United States o...</td>\n",
       "      <td>[{'adult': False, 'gender': 2, 'id': 3223, 'kn...</td>\n",
       "      <td>[{'adult': False, 'gender': 2, 'id': 531, 'kno...</td>\n",
       "      <td>A New Age Has Come.</td>\n",
       "      <td>http://marvel.com/movies/movie/193/avengers_ag...</td>\n",
       "      <td>1405403694</td>\n",
       "    </tr>\n",
       "    <tr>\n",
       "      <th>3</th>\n",
       "      <td>347201</td>\n",
       "      <td>BORUTO -NARUTO THE MOVIE-</td>\n",
       "      <td>{'id': 23616, 'name': 'Naruto Collection', 'po...</td>\n",
       "      <td>2015-08-07</td>\n",
       "      <td>95.0</td>\n",
       "      <td>0</td>\n",
       "      <td>[{'id': 16, 'name': 'Animation'}, {'id': 28, '...</td>\n",
       "      <td>ja</td>\n",
       "      <td>[{'english_name': 'Japanese', 'iso_639_1': 'ja...</td>\n",
       "      <td>[{'id': 3234, 'logo_path': '/wTPPnz05ZCQgEQVeS...</td>\n",
       "      <td>[{'iso_3166_1': 'JP', 'name': 'Japan'}]</td>\n",
       "      <td>[{'adult': False, 'gender': 1, 'id': 1201637, ...</td>\n",
       "      <td>[{'adult': False, 'gender': 2, 'id': 68923, 'k...</td>\n",
       "      <td>Forge your own path.</td>\n",
       "      <td></td>\n",
       "      <td>40200000</td>\n",
       "    </tr>\n",
       "    <tr>\n",
       "      <th>4</th>\n",
       "      <td>303857</td>\n",
       "      <td>ドラゴンボールZ 復活の「F」</td>\n",
       "      <td>{'id': 620873, 'name': 'Dragon Ball Super Coll...</td>\n",
       "      <td>2015-04-18</td>\n",
       "      <td>93.0</td>\n",
       "      <td>5000000</td>\n",
       "      <td>[{'id': 28, 'name': 'Action'}, {'id': 16, 'nam...</td>\n",
       "      <td>ja</td>\n",
       "      <td>[{'english_name': 'Japanese', 'iso_639_1': 'ja...</td>\n",
       "      <td>[{'id': 7485, 'logo_path': '/vpOrqLxZ6JkrCFdi3...</td>\n",
       "      <td>[{'iso_3166_1': 'JP', 'name': 'Japan'}, {'iso_...</td>\n",
       "      <td>[{'adult': False, 'gender': 1, 'id': 90496, 'k...</td>\n",
       "      <td>[{'adult': False, 'gender': 2, 'id': 78322, 'k...</td>\n",
       "      <td></td>\n",
       "      <td>http://www.dragonball2015.com/</td>\n",
       "      <td>61768190</td>\n",
       "    </tr>\n",
       "  </tbody>\n",
       "</table>\n",
       "</div>"
      ],
      "text/plain": [
       "       id              original_title  \\\n",
       "0   24428                The Avengers   \n",
       "1  317442  The Last: Naruto the Movie   \n",
       "2   99861     Avengers: Age of Ultron   \n",
       "3  347201   BORUTO -NARUTO THE MOVIE-   \n",
       "4  303857             ドラゴンボールZ 復活の「F」   \n",
       "\n",
       "                               belongs_to_collection release_date  runtime  \\\n",
       "0  {'id': 86311, 'name': 'The Avengers Collection...   2012-04-25    143.0   \n",
       "1  {'id': 23616, 'name': 'Naruto Collection', 'po...   2014-12-06    114.0   \n",
       "2  {'id': 86311, 'name': 'The Avengers Collection...   2015-04-22    141.0   \n",
       "3  {'id': 23616, 'name': 'Naruto Collection', 'po...   2015-08-07     95.0   \n",
       "4  {'id': 620873, 'name': 'Dragon Ball Super Coll...   2015-04-18     93.0   \n",
       "\n",
       "      budget                                             genres  \\\n",
       "0  220000000  [{'id': 878, 'name': 'Science Fiction'}, {'id'...   \n",
       "1    1000000  [{'id': 28, 'name': 'Action'}, {'id': 10749, '...   \n",
       "2  365000000  [{'id': 28, 'name': 'Action'}, {'id': 12, 'nam...   \n",
       "3          0  [{'id': 16, 'name': 'Animation'}, {'id': 28, '...   \n",
       "4    5000000  [{'id': 28, 'name': 'Action'}, {'id': 16, 'nam...   \n",
       "\n",
       "  original_language                                   spoken_languages  \\\n",
       "0                en  [{'english_name': 'English', 'iso_639_1': 'en'...   \n",
       "1                ja  [{'english_name': 'Japanese', 'iso_639_1': 'ja...   \n",
       "2                en  [{'english_name': 'English', 'iso_639_1': 'en'...   \n",
       "3                ja  [{'english_name': 'Japanese', 'iso_639_1': 'ja...   \n",
       "4                ja  [{'english_name': 'Japanese', 'iso_639_1': 'ja...   \n",
       "\n",
       "                                production_companies  \\\n",
       "0  [{'id': 420, 'logo_path': '/hUzeosd33nzE5MCNsZ...   \n",
       "1  [{'id': 2883, 'logo_path': '/rDYExnBV61jGQnkhV...   \n",
       "2  [{'id': 420, 'logo_path': '/hUzeosd33nzE5MCNsZ...   \n",
       "3  [{'id': 3234, 'logo_path': '/wTPPnz05ZCQgEQVeS...   \n",
       "4  [{'id': 7485, 'logo_path': '/vpOrqLxZ6JkrCFdi3...   \n",
       "\n",
       "                                production_countries  \\\n",
       "0  [{'iso_3166_1': 'US', 'name': 'United States o...   \n",
       "1            [{'iso_3166_1': 'JP', 'name': 'Japan'}]   \n",
       "2  [{'iso_3166_1': 'US', 'name': 'United States o...   \n",
       "3            [{'iso_3166_1': 'JP', 'name': 'Japan'}]   \n",
       "4  [{'iso_3166_1': 'JP', 'name': 'Japan'}, {'iso_...   \n",
       "\n",
       "                                                cast  \\\n",
       "0  [{'adult': False, 'gender': 2, 'id': 3223, 'kn...   \n",
       "1  [{'adult': False, 'gender': 1, 'id': 82055, 'k...   \n",
       "2  [{'adult': False, 'gender': 2, 'id': 3223, 'kn...   \n",
       "3  [{'adult': False, 'gender': 1, 'id': 1201637, ...   \n",
       "4  [{'adult': False, 'gender': 1, 'id': 90496, 'k...   \n",
       "\n",
       "                                                crew                  tagline  \\\n",
       "0  [{'adult': False, 'gender': 2, 'id': 37, 'know...  Some assembly required.   \n",
       "1  [{'adult': False, 'gender': 2, 'id': 80751, 'k...                            \n",
       "2  [{'adult': False, 'gender': 2, 'id': 531, 'kno...      A New Age Has Come.   \n",
       "3  [{'adult': False, 'gender': 2, 'id': 68923, 'k...     Forge your own path.   \n",
       "4  [{'adult': False, 'gender': 2, 'id': 78322, 'k...                            \n",
       "\n",
       "                                            homepage     revenue  \n",
       "0                  http://marvel.com/avengers_movie/  1518815515  \n",
       "1                                                       16500000  \n",
       "2  http://marvel.com/movies/movie/193/avengers_ag...  1405403694  \n",
       "3                                                       40200000  \n",
       "4                     http://www.dragonball2015.com/    61768190  "
      ]
     },
     "execution_count": 14,
     "metadata": {},
     "output_type": "execute_result"
    }
   ],
   "source": [
    "films_df.head()"
   ]
  },
  {
   "cell_type": "code",
   "execution_count": 15,
   "metadata": {},
   "outputs": [
    {
     "name": "stdout",
     "output_type": "stream",
     "text": [
      "<class 'pandas.core.frame.DataFrame'>\n",
      "Int64Index: 33689 entries, 0 to 33688\n",
      "Data columns (total 16 columns):\n",
      " #   Column                 Non-Null Count  Dtype  \n",
      "---  ------                 --------------  -----  \n",
      " 0   id                     33689 non-null  int64  \n",
      " 1   original_title         33689 non-null  object \n",
      " 2   belongs_to_collection  2384 non-null   object \n",
      " 3   release_date           33689 non-null  object \n",
      " 4   runtime                33114 non-null  float64\n",
      " 5   budget                 33689 non-null  int64  \n",
      " 6   genres                 33689 non-null  object \n",
      " 7   original_language      33689 non-null  object \n",
      " 8   spoken_languages       33689 non-null  object \n",
      " 9   production_companies   33689 non-null  object \n",
      " 10  production_countries   33689 non-null  object \n",
      " 11  cast                   33689 non-null  object \n",
      " 12  crew                   33689 non-null  object \n",
      " 13  tagline                33689 non-null  object \n",
      " 14  homepage               30769 non-null  object \n",
      " 15  revenue                33689 non-null  int64  \n",
      "dtypes: float64(1), int64(3), object(12)\n",
      "memory usage: 4.4+ MB\n"
     ]
    }
   ],
   "source": [
    "films_df.info()"
   ]
  },
  {
   "cell_type": "markdown",
   "metadata": {},
   "source": [
    "Even if we see non-null values only for `runtime` and `belongs_to_collection`, there are missing values in other forms :\n",
    "\n",
    "- for `budget`, `runtime` and `revenue` some movies have values equal to 0 which is not necessarily real. \n",
    "\n",
    "- for the features whose values are lists, there are empty lists which are not counted as null values."
   ]
  },
  {
   "cell_type": "code",
   "execution_count": 16,
   "metadata": {},
   "outputs": [
    {
     "name": "stdout",
     "output_type": "stream",
     "text": [
      "Number of movies for which we have the budget : 4618\n",
      "Number of movies for which we have the revenue : 3449\n",
      "Number of movies for which we have the budget and the revenue : 2302\n",
      "Number of movies for which we have the revenue but not the budge: 1147\n"
     ]
    }
   ],
   "source": [
    "print(\"Number of movies for which we have the budget :\", len(films_df[films_df['budget'] > 0]))\n",
    "print(\"Number of movies for which we have the revenue :\", len(films_df[films_df['revenue'] > 0]))\n",
    "print(\"Number of movies for which we have the budget and the revenue :\",\n",
    " len(films_df[(films_df['budget'] > 0) & (films_df['revenue'] > 0)]))\n",
    "print(\"Number of movies for which we have the revenue but not the budge:\",\n",
    " len(films_df[(films_df['budget'] <= 0) & (films_df['revenue'] > 0)]))\n"
   ]
  },
  {
   "cell_type": "markdown",
   "metadata": {},
   "source": [
    "Since our goal is to predict whether or not a movie will generate twice its budget in revenue, we will only consider the movies for which we have both the budget and the revenue. We define a variable which value is:\n",
    "\n",
    "- 1 if revenue / budget >= 2\n",
    "- 0 otherwise"
   ]
  },
  {
   "cell_type": "code",
   "execution_count": 17,
   "metadata": {},
   "outputs": [],
   "source": [
    "films_df = films_df[np.array(films_df['revenue'] > 0) & np.array(films_df['budget'] > 0)]\n",
    "\n",
    "desired_rentability = 2\n",
    "films_df[\"class\"] = np.int8((films_df[\"revenue\"] / films_df[\"budget\"]) >= desired_rentability)"
   ]
  },
  {
   "cell_type": "markdown",
   "metadata": {},
   "source": [
    "## 2. Feature Engineering"
   ]
  },
  {
   "cell_type": "markdown",
   "metadata": {},
   "source": [
    "We start by splitting the data into training and test sets."
   ]
  },
  {
   "cell_type": "code",
   "execution_count": 18,
   "metadata": {},
   "outputs": [],
   "source": [
    "train_df, test_df = train_test_split(films_df, test_size=0.33, random_state=12)"
   ]
  },
  {
   "cell_type": "markdown",
   "metadata": {},
   "source": [
    "We impute missing values for `runtime`"
   ]
  },
  {
   "cell_type": "code",
   "execution_count": 19,
   "metadata": {},
   "outputs": [],
   "source": [
    "mean_runtime = train_df['runtime'].mean()\n",
    "\n",
    "train_df['runtime']=train_df['runtime'].fillna(0.0).replace(0.0, mean_runtime)\n",
    "test_df['runtime']=test_df['runtime'].fillna(0.0).replace(0.0, mean_runtime)"
   ]
  },
  {
   "cell_type": "markdown",
   "metadata": {},
   "source": [
    "Now we will process all the features of our dataset so that we can use them in our model."
   ]
  },
  {
   "cell_type": "markdown",
   "metadata": {},
   "source": [
    "### 2.1. Release date"
   ]
  },
  {
   "cell_type": "code",
   "execution_count": 20,
   "metadata": {},
   "outputs": [],
   "source": [
    "train_df['release_date'] = pd.to_datetime(train_df['release_date'])\n",
    "test_df['release_date'] = pd.to_datetime(test_df['release_date'])"
   ]
  },
  {
   "cell_type": "code",
   "execution_count": 21,
   "metadata": {},
   "outputs": [
    {
     "name": "stdout",
     "output_type": "stream",
     "text": [
      "Oldest release date : 1925-12-25 00:00:00\n",
      "Latest release date : 2019-08-09 00:00:00\n"
     ]
    }
   ],
   "source": [
    "print(\"Oldest release date :\", train_df['release_date'].min())\n",
    "print(\"Latest release date :\", train_df['release_date'].max())"
   ]
  },
  {
   "cell_type": "markdown",
   "metadata": {},
   "source": [
    "We extract different time units from the release date."
   ]
  },
  {
   "cell_type": "code",
   "execution_count": 22,
   "metadata": {},
   "outputs": [],
   "source": [
    "def process_release_date(df):\n",
    "    df['release_year'] = df['release_date'].dt.year\n",
    "    df['release_month'] = df['release_date'].dt.month\n",
    "    df['release_day'] = df['release_date'].dt.day\n",
    "    df['release_weekday'] = df['release_date'].dt.weekday"
   ]
  },
  {
   "cell_type": "code",
   "execution_count": 23,
   "metadata": {},
   "outputs": [],
   "source": [
    "process_release_date(train_df)\n",
    "process_release_date(test_df)"
   ]
  },
  {
   "cell_type": "code",
   "execution_count": 24,
   "metadata": {},
   "outputs": [
    {
     "data": {
      "text/plain": [
       "<AxesSubplot:xlabel='release_day', ylabel='count'>"
      ]
     },
     "execution_count": 24,
     "metadata": {},
     "output_type": "execute_result"
    },
    {
     "data": {
      "image/png": "[encoded data removed]",
      "text/plain": [
       "<Figure size 1080x1440 with 4 Axes>"
      ]
     },
     "metadata": {
      "needs_background": "light"
     },
     "output_type": "display_data"
    }
   ],
   "source": [
    "fig, axes = plt.subplots(4, 1, figsize=(15,20))\n",
    "\n",
    "sns.countplot(data=train_df, x='release_year', ax=axes[0])\n",
    "axes[0].tick_params(axis='x', labelrotation=90, size=4)\n",
    "\n",
    "sns.countplot(data=train_df, x='release_month', ax=axes[1])\n",
    "sns.countplot(data=train_df, x='release_weekday', ax=axes[2])\n",
    "sns.countplot(data=train_df, x='release_day', ax=axes[3])"
   ]
  },
  {
   "cell_type": "markdown",
   "metadata": {},
   "source": [
    "Most movies in the dataset were released after 2000. Also they are generally released between Wednesday and Friday. Let's see how the revenue vary with the time."
   ]
  },
  {
   "cell_type": "code",
   "execution_count": 25,
   "metadata": {},
   "outputs": [
    {
     "data": {
      "text/plain": [
       "<AxesSubplot:xlabel='release_day', ylabel='revenue'>"
      ]
     },
     "execution_count": 25,
     "metadata": {},
     "output_type": "execute_result"
    },
    {
     "data": {
      "image/png": "[encoded data removed]",
      "text/plain": [
       "<Figure size 1080x720 with 4 Axes>"
      ]
     },
     "metadata": {
      "needs_background": "light"
     },
     "output_type": "display_data"
    }
   ],
   "source": [
    "fig, axes = plt.subplots(2, 2, figsize=(15,10))\n",
    "fig.suptitle(\"Average budget and revenue per unit time\")\n",
    "sns.lineplot(data=train_df, y='revenue', x='release_year', ax=axes[0,0], label='revenue')\n",
    "sns.lineplot(data=train_df, y='revenue', x='release_month', ax=axes[0,1], label='revenue')\n",
    "sns.lineplot(data=train_df, y='revenue', x='release_weekday', ax=axes[1,0], label='revenue')\n",
    "sns.lineplot(data=train_df, y='revenue', x='release_day', ax=axes[1,1], label='revenue')\n",
    "\n",
    "sns.lineplot(data=train_df, y='budget', x='release_year', ax=axes[0,0], label='budget')\n",
    "sns.lineplot(data=train_df, y='budget', x='release_month', ax=axes[0,1], label='budget')\n",
    "sns.lineplot(data=train_df, y='budget', x='release_weekday', ax=axes[1,0], label='budget')\n",
    "sns.lineplot(data=train_df, y='budget', x='release_day', ax=axes[1,1], label='budget')"
   ]
  },
  {
   "cell_type": "markdown",
   "metadata": {},
   "source": [
    "The revenue is higher for movies released after 2000. The highest revenues seem to be reached between May and July."
   ]
  },
  {
   "cell_type": "markdown",
   "metadata": {},
   "source": [
    "### 2.2. Collection, Homepage and Tagline"
   ]
  },
  {
   "cell_type": "code",
   "execution_count": 26,
   "metadata": {},
   "outputs": [
    {
     "data": {
      "text/plain": [
       "0    1153\n",
       "4     389\n",
       "Name: belongs_to_collection, dtype: int64"
      ]
     },
     "execution_count": 26,
     "metadata": {},
     "output_type": "execute_result"
    }
   ],
   "source": [
    "train_df['belongs_to_collection'].apply(lambda x: len(x) if x != None else 0).value_counts()"
   ]
  },
  {
   "cell_type": "markdown",
   "metadata": {},
   "source": [
    "1820 values in this column are empty, 490 contrain information about the collections."
   ]
  },
  {
   "cell_type": "markdown",
   "metadata": {},
   "source": [
    "Adding a collection_name column which contains name of the collection "
   ]
  },
  {
   "cell_type": "code",
   "execution_count": 27,
   "metadata": {},
   "outputs": [],
   "source": [
    "train_df['collection_name'] = train_df['belongs_to_collection'].apply(lambda x: x['name'] if x != None else '')\n",
    "test_df['collection_name'] = test_df['belongs_to_collection'].apply(lambda x: x['name'] if x != None else '')"
   ]
  },
  {
   "cell_type": "markdown",
   "metadata": {},
   "source": [
    "Adding a has_collection column which will tell if the movie belongs to a specific colllection\n",
    "- 1 : if movie belongs to a collection\n",
    "- 0 : if it does'nt belong to any collection"
   ]
  },
  {
   "cell_type": "code",
   "execution_count": 28,
   "metadata": {},
   "outputs": [],
   "source": [
    "train_df['has_collection'] = train_df['belongs_to_collection'].apply(lambda x: 1 if x != None else 0)\n",
    "test_df['has_collection'] = test_df['belongs_to_collection'].apply(lambda x: 1 if x != None else 0)"
   ]
  },
  {
   "cell_type": "markdown",
   "metadata": {},
   "source": [
    "We do the same thing for `homepage` and `tagline`"
   ]
  },
  {
   "cell_type": "code",
   "execution_count": 29,
   "metadata": {},
   "outputs": [],
   "source": [
    "train_df['has_homepage'] = train_df['homepage'].apply(lambda x: 0 if x == '' else 1)\n",
    "test_df['has_homepage'] = test_df['homepage'].apply(lambda x: 0 if x == '' else 1)\n",
    "\n",
    "train_df['has_a_tagline'] = train_df['tagline'].apply(lambda x: 0 if x == '' else 1)\n",
    "test_df['has_a_tagline'] = test_df['tagline'].apply(lambda x: 0 if x == '' else 1)"
   ]
  },
  {
   "cell_type": "markdown",
   "metadata": {},
   "source": [
    "Now we dont need the `belongs_to_collection`, `homepage` and `tagline` columns so we will drop it in both the sets"
   ]
  },
  {
   "cell_type": "code",
   "execution_count": 30,
   "metadata": {},
   "outputs": [],
   "source": [
    "train_df = train_df.drop(['belongs_to_collection', 'homepage', 'tagline'], axis=1)\n",
    "test_df = test_df.drop(['belongs_to_collection', 'homepage', 'tagline'], axis=1)"
   ]
  },
  {
   "cell_type": "code",
   "execution_count": 31,
   "metadata": {},
   "outputs": [
    {
     "data": {
      "text/plain": [
       "<AxesSubplot:xlabel='has_a_tagline', ylabel='count'>"
      ]
     },
     "execution_count": 31,
     "metadata": {},
     "output_type": "execute_result"
    },
    {
     "data": {
      "image/png": "[encoded data removed]",
      "text/plain": [
       "<Figure size 1080x360 with 3 Axes>"
      ]
     },
     "metadata": {
      "needs_background": "light"
     },
     "output_type": "display_data"
    }
   ],
   "source": [
    "fig, axes = plt.subplots(1, 3, figsize=(15, 5))\n",
    "\n",
    "sns.countplot(x=train_df['has_collection'], ax=axes[0])\n",
    "sns.countplot(x=train_df['has_homepage'], ax=axes[1])\n",
    "sns.countplot(x=train_df['has_a_tagline'], ax=axes[2])"
   ]
  },
  {
   "cell_type": "markdown",
   "metadata": {},
   "source": [
    "Most movies have a tagline but most of them also do not belong to a collection. Let's see how these features affect the revenue."
   ]
  },
  {
   "cell_type": "code",
   "execution_count": 32,
   "metadata": {},
   "outputs": [
    {
     "data": {
      "text/plain": [
       "<AxesSubplot:xlabel='has_a_tagline', ylabel='revenue'>"
      ]
     },
     "execution_count": 32,
     "metadata": {},
     "output_type": "execute_result"
    },
    {
     "data": {
      "image/png": "[encoded data removed]",
      "text/plain": [
       "<Figure size 1080x360 with 3 Axes>"
      ]
     },
     "metadata": {
      "needs_background": "light"
     },
     "output_type": "display_data"
    }
   ],
   "source": [
    "fig, axes = plt.subplots(1, 3, figsize=(15, 5))\n",
    "\n",
    "sns.barplot(data=train_df, x='has_collection', y='revenue', ax=axes[0])\n",
    "sns.barplot(data=train_df, x='has_homepage', y='revenue', ax=axes[1])\n",
    "sns.barplot(data=train_df, x='has_a_tagline', y='revenue', ax=axes[2])"
   ]
  },
  {
   "cell_type": "markdown",
   "metadata": {},
   "source": [
    "Having a collection, homepage or tagline seems to increase the revenue of the movie."
   ]
  },
  {
   "cell_type": "markdown",
   "metadata": {},
   "source": [
    "### 2.3. Original Language"
   ]
  },
  {
   "cell_type": "code",
   "execution_count": 33,
   "metadata": {},
   "outputs": [
    {
     "data": {
      "text/plain": [
       "<AxesSubplot:xlabel='original_language', ylabel='count'>"
      ]
     },
     "execution_count": 33,
     "metadata": {},
     "output_type": "execute_result"
    },
    {
     "data": {
      "image/png": "[encoded data removed]",
      "text/plain": [
       "<Figure size 1080x360 with 1 Axes>"
      ]
     },
     "metadata": {
      "needs_background": "light"
     },
     "output_type": "display_data"
    }
   ],
   "source": [
    "plt.figure(figsize=(15,5))\n",
    "sns.countplot(x=train_df['original_language'])"
   ]
  },
  {
   "cell_type": "markdown",
   "metadata": {},
   "source": [
    "Most of the movies are in English. We will do a simple one hot encoding for this column."
   ]
  },
  {
   "cell_type": "markdown",
   "metadata": {},
   "source": [
    "### 2.4. Spoken Languages"
   ]
  },
  {
   "cell_type": "code",
   "execution_count": 34,
   "metadata": {},
   "outputs": [
    {
     "data": {
      "text/plain": [
       "[{'english_name': 'English', 'iso_639_1': 'en', 'name': 'English'}]"
      ]
     },
     "execution_count": 34,
     "metadata": {},
     "output_type": "execute_result"
    }
   ],
   "source": [
    "train_df.loc[19361, 'spoken_languages']"
   ]
  },
  {
   "cell_type": "code",
   "execution_count": 35,
   "metadata": {},
   "outputs": [
    {
     "name": "stdout",
     "output_type": "stream",
     "text": [
      "Number of spoken languages in films\n"
     ]
    },
    {
     "data": {
      "text/plain": [
       "1     1086\n",
       "2      254\n",
       "3      111\n",
       "4       47\n",
       "5       25\n",
       "0        9\n",
       "6        6\n",
       "7        2\n",
       "8        1\n",
       "11       1\n",
       "Name: spoken_languages, dtype: int64"
      ]
     },
     "execution_count": 35,
     "metadata": {},
     "output_type": "execute_result"
    }
   ],
   "source": [
    "print('Number of spoken languages in films')\n",
    "train_df['spoken_languages'].apply(lambda x: len(x) if x != [] else 0).value_counts()"
   ]
  },
  {
   "cell_type": "markdown",
   "metadata": {},
   "source": [
    "For most movies there is only one spoken language. Let's compute the most common ones"
   ]
  },
  {
   "cell_type": "code",
   "execution_count": 36,
   "metadata": {},
   "outputs": [],
   "source": [
    "list_of_languages = list(\n",
    "    train_df['spoken_languages']\n",
    "    .apply(lambda x: [i['english_name'] for i in x] if x != [] else [])\n",
    "    .values\n",
    ")"
   ]
  },
  {
   "cell_type": "code",
   "execution_count": 37,
   "metadata": {},
   "outputs": [
    {
     "data": {
      "text/plain": [
       "[('English', 1201),\n",
       " ('French', 145),\n",
       " ('Spanish', 138),\n",
       " ('German', 103),\n",
       " ('Russian', 99),\n",
       " ('Hindi', 83),\n",
       " ('Italian', 60),\n",
       " ('Japanese', 46),\n",
       " ('Mandarin', 40),\n",
       " ('Arabic', 28),\n",
       " ('Portuguese', 28),\n",
       " ('Korean', 27),\n",
       " ('Malayalam', 21),\n",
       " ('Urdu', 19),\n",
       " ('Turkish', 17),\n",
       " ('Tamil', 17),\n",
       " ('Latin', 16),\n",
       " ('Swedish', 16),\n",
       " ('Cantonese', 15),\n",
       " ('Greek', 14),\n",
       " ('Telugu', 14),\n",
       " ('Polish', 12),\n",
       " ('Persian', 11),\n",
       " ('Norwegian', 9),\n",
       " ('Hebrew', 8),\n",
       " ('Hungarian', 8),\n",
       " ('Thai', 8),\n",
       " ('Vietnamese', 7),\n",
       " ('Danish', 6),\n",
       " ('Bengali', 6)]"
      ]
     },
     "execution_count": 37,
     "metadata": {},
     "output_type": "execute_result"
    }
   ],
   "source": [
    "most_common_languages = Counter([language for list_ in list_of_languages for language in list_ ]).most_common(30)\n",
    "most_common_languages"
   ]
  },
  {
   "cell_type": "markdown",
   "metadata": {},
   "source": [
    "We add a feature `num_languages` which represents the number of spoken languages in the movie"
   ]
  },
  {
   "cell_type": "code",
   "execution_count": 38,
   "metadata": {},
   "outputs": [],
   "source": [
    "train_df['num_languages'] = train_df['spoken_languages'].apply(lambda x: len(x) if x != [] else 0)\n",
    "test_df['num_languages'] = test_df['spoken_languages'].apply(lambda x: len(x) if x != [] else 0)"
   ]
  },
  {
   "cell_type": "markdown",
   "metadata": {},
   "source": [
    "We encode the most common languages as features."
   ]
  },
  {
   "cell_type": "code",
   "execution_count": 39,
   "metadata": {},
   "outputs": [],
   "source": [
    "# We get all the english names of the spoken languages in the movie\n",
    "train_df['all_languages'] = (\n",
    "    train_df['spoken_languages']\n",
    "    .apply(lambda x: [language['english_name'].lower() for language in x] if x != [] else [])\n",
    ")\n",
    "\n",
    "# Then for each one of the most common language, we look up if it is part \n",
    "# of the spoken language in the movie\n",
    "top_30_languages = [language[0].lower() for language in most_common_languages]\n",
    "\n",
    "for language in top_30_languages:\n",
    "    train_df['language_' + language] = (\n",
    "        train_df['all_languages']\n",
    "        .apply(lambda x: 1 if language in x else 0)\n",
    "    )"
   ]
  },
  {
   "cell_type": "code",
   "execution_count": 40,
   "metadata": {},
   "outputs": [],
   "source": [
    "# We get all the english names of the spoken languages in the movie\n",
    "test_df['all_languages'] = (\n",
    "    test_df['spoken_languages']\n",
    "    .apply(lambda x: [language['english_name'].lower() for language in x] if x != [] else [])\n",
    ")\n",
    "\n",
    "# Then for each one of the most common language, we look up if it is part \n",
    "# of the spoken language in the movie\n",
    "for language in top_30_languages:\n",
    "    test_df['language_' + language] = (\n",
    "        test_df['all_languages']\n",
    "        .apply(lambda x: 1 if language in x else 0)\n",
    "    )"
   ]
  },
  {
   "cell_type": "markdown",
   "metadata": {},
   "source": [
    "For each one of the 30 most common language we have a boolean feature equals to 1 if the language is spoken in the movie. We can drop the initial column."
   ]
  },
  {
   "cell_type": "code",
   "execution_count": 41,
   "metadata": {},
   "outputs": [],
   "source": [
    "train_df.drop(columns=['spoken_languages', 'all_languages'], inplace=True)\n",
    "test_df.drop(columns=['spoken_languages', 'all_languages'], inplace=True)"
   ]
  },
  {
   "cell_type": "markdown",
   "metadata": {},
   "source": [
    "### 2.5. Genres"
   ]
  },
  {
   "cell_type": "markdown",
   "metadata": {},
   "source": [
    "We will use the same analysis we used for the spoken languages."
   ]
  },
  {
   "cell_type": "code",
   "execution_count": 42,
   "metadata": {},
   "outputs": [
    {
     "name": "stdout",
     "output_type": "stream",
     "text": [
      "Number of genres in movies\n"
     ]
    },
    {
     "data": {
      "text/plain": [
       "3    531\n",
       "2    480\n",
       "1    269\n",
       "4    216\n",
       "5     37\n",
       "6      8\n",
       "0      1\n",
       "Name: genres, dtype: int64"
      ]
     },
     "execution_count": 42,
     "metadata": {},
     "output_type": "execute_result"
    }
   ],
   "source": [
    "print('Number of genres in movies')\n",
    "train_df['genres'].apply(lambda x: len(x) if x != [] else 0).value_counts()"
   ]
  },
  {
   "cell_type": "markdown",
   "metadata": {},
   "source": [
    "For most movies there are two or three genres. Let's compute the most common ones"
   ]
  },
  {
   "cell_type": "code",
   "execution_count": 43,
   "metadata": {},
   "outputs": [
    {
     "data": {
      "text/plain": [
       "[{'id': 10749, 'name': 'Romance'},\n",
       " {'id': 878, 'name': 'Science Fiction'},\n",
       " {'id': 53, 'name': 'Thriller'},\n",
       " {'id': 18, 'name': 'Drama'}]"
      ]
     },
     "execution_count": 43,
     "metadata": {},
     "output_type": "execute_result"
    }
   ],
   "source": [
    "train_df.loc[19361, 'genres']"
   ]
  },
  {
   "cell_type": "code",
   "execution_count": 44,
   "metadata": {},
   "outputs": [
    {
     "data": {
      "text/plain": [
       "[('Drama', 720),\n",
       " ('Comedy', 489),\n",
       " ('Action', 435),\n",
       " ('Thriller', 381),\n",
       " ('Adventure', 290),\n",
       " ('Romance', 236),\n",
       " ('Crime', 219),\n",
       " ('Science Fiction', 183),\n",
       " ('Family', 164),\n",
       " ('Horror', 161),\n",
       " ('Fantasy', 159),\n",
       " ('Mystery', 119),\n",
       " ('Animation', 113),\n",
       " ('History', 103),\n",
       " ('War', 63),\n",
       " ('Music', 50),\n",
       " ('Documentary', 17),\n",
       " ('Western', 15),\n",
       " ('TV Movie', 2)]"
      ]
     },
     "execution_count": 44,
     "metadata": {},
     "output_type": "execute_result"
    }
   ],
   "source": [
    "list_of_genres = list(\n",
    "    train_df['genres']\n",
    "    .apply(lambda x: [genre['name'] for genre in x] if x != [] else [])\n",
    "    .values\n",
    ")\n",
    "\n",
    "most_common_genres = Counter([genre for list_ in list_of_genres for genre in list_ ]).most_common()\n",
    "most_common_genres"
   ]
  },
  {
   "cell_type": "code",
   "execution_count": 45,
   "metadata": {},
   "outputs": [
    {
     "data": {
      "text/plain": [
       "19"
      ]
     },
     "execution_count": 45,
     "metadata": {},
     "output_type": "execute_result"
    }
   ],
   "source": [
    "len(most_common_genres)"
   ]
  },
  {
   "cell_type": "markdown",
   "metadata": {},
   "source": [
    "There are 19 genres of movies in the training set. We add a feature `num_genres` which represents the number of genres in the movie"
   ]
  },
  {
   "cell_type": "code",
   "execution_count": 46,
   "metadata": {},
   "outputs": [],
   "source": [
    "train_df['num_genres'] = train_df['genres'].apply(lambda x: len(x) if x != [] else 0)\n",
    "test_df['num_genres'] = test_df['genres'].apply(lambda x: len(x) if x != [] else 0)"
   ]
  },
  {
   "cell_type": "markdown",
   "metadata": {},
   "source": [
    "We encode the genres as features."
   ]
  },
  {
   "cell_type": "code",
   "execution_count": 47,
   "metadata": {},
   "outputs": [],
   "source": [
    "# We get all the names of all the genres of the movie\n",
    "train_df['all_genres'] = (\n",
    "    train_df['genres']\n",
    "    .apply(lambda x: [genre['name'].lower() for genre in x] if x != [] else [])\n",
    ")\n",
    "\n",
    "# Then for each one of the most common genre, we look up if it is part \n",
    "# of the genres of the movie\n",
    "top_genres = [genre[0].lower() for genre in most_common_genres]\n",
    "\n",
    "for genre in top_genres:\n",
    "    train_df['genre_' + genre] = (\n",
    "        train_df['all_genres']\n",
    "        .apply(lambda x: 1 if genre in x else 0)\n",
    "    )"
   ]
  },
  {
   "cell_type": "code",
   "execution_count": 48,
   "metadata": {},
   "outputs": [],
   "source": [
    "# We get all the names of all the genres of the movie\n",
    "test_df['all_genres'] = (\n",
    "    test_df['genres']\n",
    "    .apply(lambda x: [genre['name'].lower() for genre in x] if x != [] else [])\n",
    ")\n",
    "\n",
    "# Then for each one of the most common genre, we look up if it is part \n",
    "# of the genres of the movie\n",
    "\n",
    "for genre in top_genres:\n",
    "    test_df['genre_' + genre] = (\n",
    "        test_df['all_genres']\n",
    "        .apply(lambda x: 1 if genre in x else 0)\n",
    "    )"
   ]
  },
  {
   "cell_type": "markdown",
   "metadata": {},
   "source": [
    "For each one of the 19 most common genres we have a boolean feature equals to 1 if the genre is one of the movie. We can drop the initial column."
   ]
  },
  {
   "cell_type": "code",
   "execution_count": 49,
   "metadata": {},
   "outputs": [],
   "source": [
    "train_df.drop(columns=['genres', 'all_genres'], inplace=True)\n",
    "test_df.drop(columns=['genres', 'all_genres'], inplace=True)"
   ]
  },
  {
   "cell_type": "markdown",
   "metadata": {},
   "source": [
    "### 2.6. Production companies"
   ]
  },
  {
   "cell_type": "markdown",
   "metadata": {},
   "source": [
    "Once again we do the same analysis."
   ]
  },
  {
   "cell_type": "code",
   "execution_count": 50,
   "metadata": {},
   "outputs": [
    {
     "data": {
      "text/plain": [
       "[{'id': 59403,\n",
       "  'logo_path': None,\n",
       "  'name': 'Miracle Mile Productions Inc.',\n",
       "  'origin_country': ''},\n",
       " {'id': 3952, 'logo_path': None, 'name': 'Hemdale Film', 'origin_country': ''}]"
      ]
     },
     "execution_count": 50,
     "metadata": {},
     "output_type": "execute_result"
    }
   ],
   "source": [
    "train_df.loc[19361, 'production_companies']"
   ]
  },
  {
   "cell_type": "code",
   "execution_count": 51,
   "metadata": {},
   "outputs": [
    {
     "name": "stdout",
     "output_type": "stream",
     "text": [
      "Number of production companies for movies\n"
     ]
    },
    {
     "data": {
      "text/plain": [
       "2     318\n",
       "3     311\n",
       "1     276\n",
       "4     221\n",
       "5     124\n",
       "6     105\n",
       "7      58\n",
       "8      39\n",
       "9      21\n",
       "0      20\n",
       "10     15\n",
       "11     12\n",
       "13      6\n",
       "12      6\n",
       "18      2\n",
       "17      2\n",
       "16      2\n",
       "15      1\n",
       "22      1\n",
       "21      1\n",
       "14      1\n",
       "Name: production_companies, dtype: int64"
      ]
     },
     "execution_count": 51,
     "metadata": {},
     "output_type": "execute_result"
    }
   ],
   "source": [
    "print('Number of production companies for movies')\n",
    "train_df['production_companies'].apply(lambda x: len(x) if x != [] else 0).value_counts()"
   ]
  },
  {
   "cell_type": "markdown",
   "metadata": {},
   "source": [
    "For most movies there are two or one production companies. Let's compute the most common ones"
   ]
  },
  {
   "cell_type": "code",
   "execution_count": 52,
   "metadata": {},
   "outputs": [
    {
     "data": {
      "text/plain": [
       "[('Universal Pictures', 129),\n",
       " ('Warner Bros. Pictures', 82),\n",
       " ('Columbia Pictures', 78),\n",
       " ('Paramount', 67),\n",
       " ('20th Century Fox', 60),\n",
       " ('Lionsgate', 44),\n",
       " ('Canal+', 42),\n",
       " ('New Line Cinema', 34),\n",
       " ('Walt Disney Pictures', 33),\n",
       " ('Sony Pictures', 32),\n",
       " ('TSG Entertainment', 30),\n",
       " ('Metro-Goldwyn-Mayer', 28),\n",
       " ('DreamWorks Pictures', 27),\n",
       " ('StudioCanal', 26),\n",
       " ('Blumhouse Productions', 25),\n",
       " ('Village Roadshow Pictures', 22),\n",
       " ('United Artists', 22),\n",
       " ('Relativity Media', 21),\n",
       " ('RatPac Entertainment', 21),\n",
       " ('Legendary Pictures', 21),\n",
       " ('Ciné+', 21),\n",
       " ('Dune Entertainment', 19),\n",
       " ('Amblin Entertainment', 19),\n",
       " ('Imagine Entertainment', 19),\n",
       " ('Summit Entertainment', 19),\n",
       " ('Working Title Films', 18),\n",
       " ('TriStar Pictures', 18)]"
      ]
     },
     "execution_count": 52,
     "metadata": {},
     "output_type": "execute_result"
    }
   ],
   "source": [
    "list_of_companies = list(\n",
    "    train_df['production_companies']\n",
    "    .apply(lambda x: [company['name'] for company in x] if x != [] else [])\n",
    "    .values\n",
    ")\n",
    "\n",
    "# We take the companies which have >= 20 occurences\n",
    "most_common_companies = Counter([company for list_ in list_of_companies for company in list_ ]).most_common(27)\n",
    "most_common_companies"
   ]
  },
  {
   "cell_type": "markdown",
   "metadata": {},
   "source": [
    "We add a feature `num_companies` which represents the number of production companies of the movie"
   ]
  },
  {
   "cell_type": "code",
   "execution_count": 53,
   "metadata": {},
   "outputs": [],
   "source": [
    "train_df['num_companies'] = train_df['production_companies'].apply(lambda x: len(x) if x != [] else 0)\n",
    "test_df['num_companies'] = test_df['production_companies'].apply(lambda x: len(x) if x != [] else 0)"
   ]
  },
  {
   "cell_type": "markdown",
   "metadata": {},
   "source": [
    "We encode the most common production companies as features."
   ]
  },
  {
   "cell_type": "code",
   "execution_count": 54,
   "metadata": {},
   "outputs": [],
   "source": [
    "# We get all the names of all the prod companies of the movie\n",
    "train_df['all_companies'] = (\n",
    "    train_df['production_companies']\n",
    "    .apply(lambda x: [company['name'] for company in x] if x != [] else [])\n",
    ")\n",
    "\n",
    "# Then for each one of the 27 most common company, we look up if it is part \n",
    "# of the companies of the movie\n",
    "top_companies = [company[0] for company in most_common_companies]\n",
    "\n",
    "for company in top_companies:\n",
    "    train_df['company_' + '_'.join(company.lower().split())] = (\n",
    "        train_df['all_companies']\n",
    "        .apply(lambda x: 1 if company in x else 0)\n",
    "    )"
   ]
  },
  {
   "cell_type": "code",
   "execution_count": 55,
   "metadata": {},
   "outputs": [],
   "source": [
    "# We get all the names of all the prod companies of the movie\n",
    "test_df['all_companies'] = (\n",
    "    test_df['production_companies']\n",
    "    .apply(lambda x: [company['name'] for company in x] if x != [] else [])\n",
    ")\n",
    "\n",
    "# Then for each one of the 27 most common company, we look up if it is part \n",
    "# of the companies of the movie\n",
    "\n",
    "for company in top_companies:\n",
    "    test_df['company_' + '_'.join(company.lower().split())] = (\n",
    "        test_df['all_companies']\n",
    "        .apply(lambda x: 1 if company in x else 0)\n",
    "    )"
   ]
  },
  {
   "cell_type": "markdown",
   "metadata": {},
   "source": [
    "For each one of the 27 most common companies we have a boolean feature equals to 1 if the company is one of the movie. We can drop the initial column."
   ]
  },
  {
   "cell_type": "code",
   "execution_count": 56,
   "metadata": {},
   "outputs": [],
   "source": [
    "train_df.drop(columns=['production_companies', 'all_companies'], inplace=True)\n",
    "test_df.drop(columns=['production_companies', 'all_companies'], inplace=True)"
   ]
  },
  {
   "cell_type": "markdown",
   "metadata": {},
   "source": [
    "### 2.7. Production countries"
   ]
  },
  {
   "cell_type": "markdown",
   "metadata": {},
   "source": [
    "Same analysis !"
   ]
  },
  {
   "cell_type": "code",
   "execution_count": 57,
   "metadata": {},
   "outputs": [
    {
     "data": {
      "text/plain": [
       "[{'iso_3166_1': 'US', 'name': 'United States of America'}]"
      ]
     },
     "execution_count": 57,
     "metadata": {},
     "output_type": "execute_result"
    }
   ],
   "source": [
    "train_df.loc[19361, 'production_countries']"
   ]
  },
  {
   "cell_type": "code",
   "execution_count": 58,
   "metadata": {},
   "outputs": [
    {
     "name": "stdout",
     "output_type": "stream",
     "text": [
      "Number of production countries for movies\n"
     ]
    },
    {
     "data": {
      "text/plain": [
       "1    1073\n",
       "2     286\n",
       "3     106\n",
       "4      43\n",
       "5      16\n",
       "0      14\n",
       "6       4\n",
       "Name: production_countries, dtype: int64"
      ]
     },
     "execution_count": 58,
     "metadata": {},
     "output_type": "execute_result"
    }
   ],
   "source": [
    "print('Number of production countries for movies')\n",
    "train_df['production_countries'].apply(lambda x: len(x) if x != [] else 0).value_counts()"
   ]
  },
  {
   "cell_type": "markdown",
   "metadata": {},
   "source": [
    "For most movies there are one or two production countries. Let's compute the most common ones"
   ]
  },
  {
   "cell_type": "code",
   "execution_count": 59,
   "metadata": {},
   "outputs": [
    {
     "data": {
      "text/plain": [
       "[('United States of America', 1027),\n",
       " ('United Kingdom', 222),\n",
       " ('France', 147),\n",
       " ('India', 128),\n",
       " ('Germany', 89),\n",
       " ('Canada', 75),\n",
       " ('Spain', 47),\n",
       " ('China', 43),\n",
       " ('Russia', 40),\n",
       " ('Belgium', 36),\n",
       " ('Japan', 34),\n",
       " ('Australia', 32),\n",
       " ('Italy', 28),\n",
       " ('South Korea', 27),\n",
       " ('Hong Kong', 19),\n",
       " ('Sweden', 18),\n",
       " ('Pakistan', 12),\n",
       " ('Czech Republic', 12),\n",
       " ('Denmark', 11),\n",
       " ('Mexico', 11),\n",
       " ('Ireland', 11)]"
      ]
     },
     "execution_count": 59,
     "metadata": {},
     "output_type": "execute_result"
    }
   ],
   "source": [
    "list_of_countries = list(\n",
    "    train_df['production_countries']\n",
    "    .apply(lambda x: [country['name'] for country in x] if x != [] else [])\n",
    "    .values\n",
    ")\n",
    "\n",
    "# We take the countries which have >= 20 occurences\n",
    "most_common_countries = Counter([country for list_ in list_of_countries for country in list_ ]).most_common(21)\n",
    "most_common_countries"
   ]
  },
  {
   "cell_type": "markdown",
   "metadata": {},
   "source": [
    "We add a feature `num_countries` which represents the number of production countries of the movie"
   ]
  },
  {
   "cell_type": "code",
   "execution_count": 60,
   "metadata": {},
   "outputs": [],
   "source": [
    "train_df['num_countries'] = train_df['production_countries'].apply(lambda x: len(x) if x != [] else 0)\n",
    "test_df['num_countries'] = test_df['production_countries'].apply(lambda x: len(x) if x != [] else 0)"
   ]
  },
  {
   "cell_type": "markdown",
   "metadata": {},
   "source": [
    "We encode the most common production countries as features."
   ]
  },
  {
   "cell_type": "code",
   "execution_count": 61,
   "metadata": {},
   "outputs": [],
   "source": [
    "# We get all the names of all the prod countries of the movie\n",
    "train_df['all_countries'] = (\n",
    "    train_df['production_countries']\n",
    "    .apply(lambda x: [country['name'] for country in x] if x != [] else [])\n",
    ")\n",
    "\n",
    "# Then for each one of the 21 most common country, we look up if it is part \n",
    "# of the countries of the movie\n",
    "top_countries = [country[0] for country in most_common_countries]\n",
    "\n",
    "for country in top_countries:\n",
    "    train_df['country_' + '_'.join(country.lower().split())] = (\n",
    "        train_df['all_countries']\n",
    "        .apply(lambda x: 1 if country in x else 0)\n",
    "    )"
   ]
  },
  {
   "cell_type": "code",
   "execution_count": 62,
   "metadata": {},
   "outputs": [],
   "source": [
    "# We get all the names of all the prod countries of the movie\n",
    "test_df['all_countries'] = (\n",
    "    test_df['production_countries']\n",
    "    .apply(lambda x: [country['name'] for country in x] if x != [] else [])\n",
    ")\n",
    "\n",
    "# Then for each one of the 21 most common country, we look up if it is part \n",
    "# of the countries of the movie\n",
    "\n",
    "for country in top_countries:\n",
    "    test_df['country_' + '_'.join(country.lower().split())] = (\n",
    "        test_df['all_countries']\n",
    "        .apply(lambda x: 1 if country in x else 0)\n",
    "    )"
   ]
  },
  {
   "cell_type": "markdown",
   "metadata": {},
   "source": [
    "For each one of the 27 most common companies we have a boolean feature equals to 1 if the company is one of the movie. We can drop the initial column."
   ]
  },
  {
   "cell_type": "code",
   "execution_count": 63,
   "metadata": {},
   "outputs": [],
   "source": [
    "train_df.drop(columns=['production_countries', 'all_countries'], inplace=True)\n",
    "test_df.drop(columns=['production_countries', 'all_countries'], inplace=True)"
   ]
  },
  {
   "cell_type": "markdown",
   "metadata": {},
   "source": [
    "### 2.8. Cast"
   ]
  },
  {
   "cell_type": "markdown",
   "metadata": {},
   "source": [
    "Same analysis !"
   ]
  },
  {
   "cell_type": "code",
   "execution_count": 64,
   "metadata": {},
   "outputs": [
    {
     "data": {
      "text/plain": [
       "[{'adult': False,\n",
       "  'gender': 2,\n",
       "  'id': 11085,\n",
       "  'known_for_department': 'Acting',\n",
       "  'name': 'Anthony Edwards',\n",
       "  'original_name': 'Anthony Edwards',\n",
       "  'popularity': 9.865,\n",
       "  'profile_path': '/rP88gP87pa3je6Viem3081tESIV.jpg',\n",
       "  'cast_id': 1,\n",
       "  'character': 'Harry Washello',\n",
       "  'credit_id': '52fe44a6c3a368484e02f029',\n",
       "  'order': 0},\n",
       " {'adult': False,\n",
       "  'gender': 1,\n",
       "  'id': 51544,\n",
       "  'known_for_department': 'Acting',\n",
       "  'name': 'Mare Winningham',\n",
       "  'original_name': 'Mare Winningham',\n",
       "  'popularity': 10.916,\n",
       "  'profile_path': '/nXawdsVgNQp4Q41vu735nvajIT9.jpg',\n",
       "  'cast_id': 2,\n",
       "  'character': 'Julie Peters',\n",
       "  'credit_id': '52fe44a6c3a368484e02f02d',\n",
       "  'order': 1},\n",
       " {'adult': False,\n",
       "  'gender': 2,\n",
       "  'id': 103071,\n",
       "  'known_for_department': 'Acting',\n",
       "  'name': 'John Agar',\n",
       "  'original_name': 'John Agar',\n",
       "  'popularity': 3.259,\n",
       "  'profile_path': '/zIFQzZaSUzsRGh0EdaLeFr1bJHW.jpg',\n",
       "  'cast_id': 4,\n",
       "  'character': 'Ivan Peters',\n",
       "  'credit_id': '52fe44a6c3a368484e02f037',\n",
       "  'order': 2},\n",
       " {'adult': False,\n",
       "  'gender': 1,\n",
       "  'id': 11756,\n",
       "  'known_for_department': 'Acting',\n",
       "  'name': 'Lou Hancock',\n",
       "  'original_name': 'Lou Hancock',\n",
       "  'popularity': 1.538,\n",
       "  'profile_path': '/1NGv178QgomuVC9kTc9gAThATMv.jpg',\n",
       "  'cast_id': 5,\n",
       "  'character': 'Lucy Peters',\n",
       "  'credit_id': '52fe44a6c3a368484e02f03b',\n",
       "  'order': 3},\n",
       " {'adult': False,\n",
       "  'gender': 2,\n",
       "  'id': 34,\n",
       "  'known_for_department': 'Acting',\n",
       "  'name': 'Mykelti Williamson',\n",
       "  'original_name': 'Mykelti Williamson',\n",
       "  'popularity': 11.621,\n",
       "  'profile_path': '/vR1PqusHy0n4gWr3887pEcxPU6.jpg',\n",
       "  'cast_id': 6,\n",
       "  'character': 'Wilson',\n",
       "  'credit_id': '52fe44a6c3a368484e02f03f',\n",
       "  'order': 4},\n",
       " {'adult': False,\n",
       "  'gender': 1,\n",
       "  'id': 63046,\n",
       "  'known_for_department': 'Acting',\n",
       "  'name': 'Kelly Jo Minter',\n",
       "  'original_name': 'Kelly Jo Minter',\n",
       "  'popularity': 1.557,\n",
       "  'profile_path': '/zVRys4W5kzkWefva3LvkF2bHMV3.jpg',\n",
       "  'cast_id': 7,\n",
       "  'character': 'Charlotta',\n",
       "  'credit_id': '52fe44a6c3a368484e02f043',\n",
       "  'order': 5},\n",
       " {'adult': False,\n",
       "  'gender': 2,\n",
       "  'id': 29685,\n",
       "  'known_for_department': 'Acting',\n",
       "  'name': 'Kurt Fuller',\n",
       "  'original_name': 'Kurt Fuller',\n",
       "  'popularity': 4.12,\n",
       "  'profile_path': '/kV02XLACLFd1YYQdSOgqy6lFmQ3.jpg',\n",
       "  'cast_id': 8,\n",
       "  'character': 'Gerstead',\n",
       "  'credit_id': '52fe44a6c3a368484e02f047',\n",
       "  'order': 6},\n",
       " {'adult': False,\n",
       "  'gender': 1,\n",
       "  'id': 1743,\n",
       "  'known_for_department': 'Acting',\n",
       "  'name': 'Denise Crosby',\n",
       "  'original_name': 'Denise Crosby',\n",
       "  'popularity': 6.97,\n",
       "  'profile_path': '/1Eoo8o3xRGflJ9kHxg1eFVwAwQa.jpg',\n",
       "  'cast_id': 9,\n",
       "  'character': 'Landa',\n",
       "  'credit_id': '52fe44a6c3a368484e02f04b',\n",
       "  'order': 7},\n",
       " {'adult': False,\n",
       "  'gender': 2,\n",
       "  'id': 30615,\n",
       "  'known_for_department': 'Acting',\n",
       "  'name': 'Robert DoQui',\n",
       "  'original_name': 'Robert DoQui',\n",
       "  'popularity': 3.826,\n",
       "  'profile_path': '/uLQsWehFSYRn2LNfzT9fUjSRpkF.jpg',\n",
       "  'cast_id': 10,\n",
       "  'character': 'Fred the Cook',\n",
       "  'credit_id': '52fe44a6c3a368484e02f04f',\n",
       "  'order': 8},\n",
       " {'adult': False,\n",
       "  'gender': 1,\n",
       "  'id': 1912,\n",
       "  'known_for_department': 'Acting',\n",
       "  'name': 'O-Lan Jones',\n",
       "  'original_name': 'O-Lan Jones',\n",
       "  'popularity': 3.085,\n",
       "  'profile_path': '/urRA3z6QFJdiKEXGsQlUy3yvoZH.jpg',\n",
       "  'cast_id': 11,\n",
       "  'character': 'Waitress',\n",
       "  'credit_id': '52fe44a6c3a368484e02f053',\n",
       "  'order': 9},\n",
       " {'adult': False,\n",
       "  'gender': 2,\n",
       "  'id': 82684,\n",
       "  'known_for_department': 'Acting',\n",
       "  'name': 'Claude Earl Jones',\n",
       "  'original_name': 'Claude Earl Jones',\n",
       "  'popularity': 0.875,\n",
       "  'profile_path': '/5xK538SKUTMG3dYjPk0eJXhN214.jpg',\n",
       "  'cast_id': 12,\n",
       "  'character': 'Harlan',\n",
       "  'credit_id': '52fe44a6c3a368484e02f057',\n",
       "  'order': 10},\n",
       " {'adult': False,\n",
       "  'gender': 2,\n",
       "  'id': 3008,\n",
       "  'known_for_department': 'Acting',\n",
       "  'name': 'Alan Rosenberg',\n",
       "  'original_name': 'Alan Rosenberg',\n",
       "  'popularity': 3.487,\n",
       "  'profile_path': '/fk5nR9aLZBjGA67J5SOK3FWjjWF.jpg',\n",
       "  'cast_id': 13,\n",
       "  'character': 'Mike',\n",
       "  'credit_id': '52fe44a6c3a368484e02f05b',\n",
       "  'order': 11},\n",
       " {'adult': False,\n",
       "  'gender': 2,\n",
       "  'id': 74273,\n",
       "  'known_for_department': 'Acting',\n",
       "  'name': 'Danny De La Paz',\n",
       "  'original_name': 'Danny De La Paz',\n",
       "  'popularity': 0.6000000000000001,\n",
       "  'profile_path': None,\n",
       "  'cast_id': 14,\n",
       "  'character': 'Transvestite',\n",
       "  'credit_id': '52fe44a6c3a368484e02f05f',\n",
       "  'order': 12},\n",
       " {'adult': False,\n",
       "  'gender': 2,\n",
       "  'id': 2716,\n",
       "  'known_for_department': 'Acting',\n",
       "  'name': 'Earl Boen',\n",
       "  'original_name': 'Earl Boen',\n",
       "  'popularity': 8.631,\n",
       "  'profile_path': '/nRAlyqkAA84gCTDwjFR77avdfHK.jpg',\n",
       "  'cast_id': 15,\n",
       "  'character': 'Drunk Man in Diner',\n",
       "  'credit_id': '52fe44a6c3a368484e02f063',\n",
       "  'order': 13},\n",
       " {'adult': False,\n",
       "  'gender': 1,\n",
       "  'id': 43859,\n",
       "  'known_for_department': 'Acting',\n",
       "  'name': 'Diane Delano',\n",
       "  'original_name': 'Diane Delano',\n",
       "  'popularity': 2.02,\n",
       "  'profile_path': '/cG2SVLqASmSKb2bZpC1SfUao1IK.jpg',\n",
       "  'cast_id': 16,\n",
       "  'character': 'Stewardess',\n",
       "  'credit_id': '52fe44a6c3a368484e02f067',\n",
       "  'order': 14},\n",
       " {'adult': False,\n",
       "  'gender': 1,\n",
       "  'id': 3981,\n",
       "  'known_for_department': 'Acting',\n",
       "  'name': 'Jenette Goldstein',\n",
       "  'original_name': 'Jenette Goldstein',\n",
       "  'popularity': 3.958,\n",
       "  'profile_path': '/rIDF2017eiY1HxPwXnXW24rv66o.jpg',\n",
       "  'cast_id': 17,\n",
       "  'character': 'Beverly Hills Chick #1',\n",
       "  'credit_id': '52fe44a6c3a368484e02f06b',\n",
       "  'order': 15},\n",
       " {'adult': False,\n",
       "  'gender': 2,\n",
       "  'id': 6939,\n",
       "  'known_for_department': 'Acting',\n",
       "  'name': 'Edward Bunker',\n",
       "  'original_name': 'Edward Bunker',\n",
       "  'popularity': 1.712,\n",
       "  'profile_path': '/or5afkJZ6wVCL9XWOxs7tjft2El.jpg',\n",
       "  'cast_id': 18,\n",
       "  'character': 'Nightwatchman',\n",
       "  'credit_id': '52fe44a6c3a368484e02f06f',\n",
       "  'order': 16},\n",
       " {'adult': False,\n",
       "  'gender': 2,\n",
       "  'id': 2719,\n",
       "  'known_for_department': 'Acting',\n",
       "  'name': 'Brian Thompson',\n",
       "  'original_name': 'Brian Thompson',\n",
       "  'popularity': 9.394,\n",
       "  'profile_path': '/qooSjBMA1P85JhBpHlwmmisGroO.jpg',\n",
       "  'cast_id': 19,\n",
       "  'character': 'Power Lifter',\n",
       "  'credit_id': '52fe44a6c3a368484e02f073',\n",
       "  'order': 17}]"
      ]
     },
     "execution_count": 64,
     "metadata": {},
     "output_type": "execute_result"
    }
   ],
   "source": [
    "train_df.loc[19361, 'cast']"
   ]
  },
  {
   "cell_type": "code",
   "execution_count": 65,
   "metadata": {},
   "outputs": [
    {
     "name": "stdout",
     "output_type": "stream",
     "text": [
      "Number of casted persons in the movies\n"
     ]
    },
    {
     "data": {
      "text/plain": [
       "19     49\n",
       "18     47\n",
       "23     42\n",
       "20     42\n",
       "16     36\n",
       "       ..\n",
       "155     1\n",
       "122     1\n",
       "126     1\n",
       "227     1\n",
       "121     1\n",
       "Name: cast, Length: 124, dtype: int64"
      ]
     },
     "execution_count": 65,
     "metadata": {},
     "output_type": "execute_result"
    }
   ],
   "source": [
    "print('Number of casted persons in the movies')\n",
    "train_df['cast'].apply(lambda x: len(x) if x != [] else 0).value_counts()"
   ]
  },
  {
   "cell_type": "code",
   "execution_count": 66,
   "metadata": {},
   "outputs": [
    {
     "data": {
      "text/plain": [
       "[('Samuel L. Jackson', 23),\n",
       " ('Morgan Freeman', 20),\n",
       " ('Liam Neeson', 20),\n",
       " ('Michael Papajohn', 19),\n",
       " ('Johnny Otto', 18),\n",
       " ('John Goodman', 17),\n",
       " ('J.K. Simmons', 17),\n",
       " ('Frank Welker', 17),\n",
       " ('Willem Dafoe', 16),\n",
       " ('Stan Lee', 16),\n",
       " ('Michael Fassbender', 15),\n",
       " ('Toby Jones', 15),\n",
       " ('Alec Baldwin', 14),\n",
       " ('Wayne Pére', 14),\n",
       " ('Dwayne Johnson', 14),\n",
       " ('James Franco', 14),\n",
       " ('Vin Diesel', 14),\n",
       " ('David Thewlis', 14),\n",
       " ('Octavia Spencer', 14),\n",
       " ('Robert De Niro', 14),\n",
       " ('Gary Oldman', 14),\n",
       " ('Steve Buscemi', 13),\n",
       " ('Keegan-Michael Key', 13),\n",
       " ('Owen Wilson', 13),\n",
       " ('Elizabeth Banks', 13),\n",
       " ('Arnold Schwarzenegger', 13),\n",
       " ('Daniel Westwood', 13),\n",
       " ('Woody Harrelson', 13),\n",
       " ('Matt Damon', 13)]"
      ]
     },
     "execution_count": 66,
     "metadata": {},
     "output_type": "execute_result"
    }
   ],
   "source": [
    "list_of_cast_names = list(\n",
    "    train_df['cast']\n",
    "    .apply(lambda x: [casted['name'] for casted in x] if x != [] else [])\n",
    "    .values\n",
    ")\n",
    "\n",
    "# We take the countries which have >= 15 occurences\n",
    "most_common_casted = Counter([casted for list_ in list_of_cast_names for casted in list_ ]).most_common(29)\n",
    "most_common_casted"
   ]
  },
  {
   "cell_type": "markdown",
   "metadata": {},
   "source": [
    "We add a feature `num_casted` which represents the number of casted persons in the movie"
   ]
  },
  {
   "cell_type": "code",
   "execution_count": 67,
   "metadata": {},
   "outputs": [],
   "source": [
    "train_df['num_casted'] = train_df['cast'].apply(lambda x: len(x) if x != [] else 0)\n",
    "test_df['num_casted'] = test_df['cast'].apply(lambda x: len(x) if x != [] else 0)"
   ]
  },
  {
   "cell_type": "markdown",
   "metadata": {},
   "source": [
    "We encode the most common casted persons as features."
   ]
  },
  {
   "cell_type": "code",
   "execution_count": 68,
   "metadata": {},
   "outputs": [],
   "source": [
    "# We get all the names of all the casted persons the movie\n",
    "train_df['all_casted'] = (\n",
    "    train_df['cast']\n",
    "    .apply(lambda x: [casted['name'] for casted in x] if x != [] else [])\n",
    ")\n",
    "\n",
    "# Then for each one of the 29 most common casted, we look up if it is part \n",
    "# of the casted persons in the movie\n",
    "top_cast = [casted[0] for casted in most_common_casted]\n",
    "\n",
    "for casted in top_cast:\n",
    "    train_df['cast_' + '_'.join(casted.lower().split())] = (\n",
    "        train_df['all_casted']\n",
    "        .apply(lambda x: 1 if casted in x else 0)\n",
    "    )"
   ]
  },
  {
   "cell_type": "code",
   "execution_count": 69,
   "metadata": {},
   "outputs": [],
   "source": [
    "# We get all the names of all the casted persons the movie\n",
    "test_df['all_casted'] = (\n",
    "    test_df['cast']\n",
    "    .apply(lambda x: [casted['name'] for casted in x] if x != [] else [])\n",
    ")\n",
    "\n",
    "# Then for each one of the 29 most common casted, we look up if it is part \n",
    "# of the casted persons in the movie\n",
    "top_cast = [casted[0] for casted in most_common_casted]\n",
    "\n",
    "for casted in top_cast:\n",
    "    test_df['cast_' + '_'.join(casted.lower().split())] = (\n",
    "        test_df['all_casted']\n",
    "        .apply(lambda x: 1 if casted in x else 0)\n",
    "    )"
   ]
  },
  {
   "cell_type": "markdown",
   "metadata": {},
   "source": [
    "For each one of the 29 most common casted we have a boolean feature equals to 1 if the person is in the movie. We can drop the initial column."
   ]
  },
  {
   "cell_type": "code",
   "execution_count": 70,
   "metadata": {},
   "outputs": [],
   "source": [
    "train_df.drop(columns=['cast', 'all_casted'], inplace=True)\n",
    "test_df.drop(columns=['cast', 'all_casted'], inplace=True)"
   ]
  },
  {
   "cell_type": "markdown",
   "metadata": {},
   "source": [
    "### 2.9. Crew"
   ]
  },
  {
   "cell_type": "markdown",
   "metadata": {},
   "source": [
    "Same analysis !"
   ]
  },
  {
   "cell_type": "code",
   "execution_count": 71,
   "metadata": {},
   "outputs": [
    {
     "data": {
      "text/plain": [
       "[{'adult': False,\n",
       "  'gender': 2,\n",
       "  'id': 601,\n",
       "  'known_for_department': 'Art',\n",
       "  'name': 'David L. Snyder',\n",
       "  'original_name': 'David L. Snyder',\n",
       "  'popularity': 1.587,\n",
       "  'profile_path': '/u6mr5Eaz85CA53BsuLRicdl6gvp.jpg',\n",
       "  'credit_id': '60884f21b6abc400298b80ad',\n",
       "  'department': 'Art',\n",
       "  'job': 'Conceptual Design'},\n",
       " {'adult': False,\n",
       "  'gender': 2,\n",
       "  'id': 2214,\n",
       "  'known_for_department': 'Sound',\n",
       "  'name': 'Paul Haslinger',\n",
       "  'original_name': 'Paul Haslinger',\n",
       "  'popularity': 1.528,\n",
       "  'profile_path': None,\n",
       "  'credit_id': '55b5155dc3a3682190006b1c',\n",
       "  'department': 'Sound',\n",
       "  'job': 'Original Music Composer'},\n",
       " {'adult': False,\n",
       "  'gender': 2,\n",
       "  'id': 2720,\n",
       "  'known_for_department': 'Production',\n",
       "  'name': 'Derek Gibson',\n",
       "  'original_name': 'Derek Gibson',\n",
       "  'popularity': 0.6000000000000001,\n",
       "  'profile_path': None,\n",
       "  'credit_id': '55b51520c3a3683002014631',\n",
       "  'department': 'Production',\n",
       "  'job': 'Producer'},\n",
       " {'adult': False,\n",
       "  'gender': 2,\n",
       "  'id': 2721,\n",
       "  'known_for_department': 'Production',\n",
       "  'name': 'John Daly',\n",
       "  'original_name': 'John Daly',\n",
       "  'popularity': 0.652,\n",
       "  'profile_path': None,\n",
       "  'credit_id': '55b51508c3a368210a006ff9',\n",
       "  'department': 'Production',\n",
       "  'job': 'Producer'},\n",
       " {'adult': False,\n",
       "  'gender': 2,\n",
       "  'id': 9618,\n",
       "  'known_for_department': 'Art',\n",
       "  'name': 'Sean Haworth',\n",
       "  'original_name': 'Sean Haworth',\n",
       "  'popularity': 1.4,\n",
       "  'profile_path': None,\n",
       "  'credit_id': '60884eb355c926002b7c8eb9',\n",
       "  'department': 'Art',\n",
       "  'job': 'Set Designer'},\n",
       " {'adult': False,\n",
       "  'gender': 2,\n",
       "  'id': 10365,\n",
       "  'known_for_department': 'Art',\n",
       "  'name': 'Richard Hoover',\n",
       "  'original_name': 'Richard Hoover',\n",
       "  'popularity': 0.6000000000000001,\n",
       "  'profile_path': None,\n",
       "  'credit_id': '55b51601925141788b006f73',\n",
       "  'department': 'Art',\n",
       "  'job': 'Art Direction'},\n",
       " {'adult': False,\n",
       "  'gender': 2,\n",
       "  'id': 10815,\n",
       "  'known_for_department': 'Camera',\n",
       "  'name': 'Theo van de Sande',\n",
       "  'original_name': 'Theo van de Sande',\n",
       "  'popularity': 0.6000000000000001,\n",
       "  'profile_path': None,\n",
       "  'credit_id': '55b5157c925141736400693e',\n",
       "  'department': 'Camera',\n",
       "  'job': 'Director of Photography'},\n",
       " {'adult': False,\n",
       "  'gender': 0,\n",
       "  'id': 19971,\n",
       "  'known_for_department': 'Costume & Make-Up',\n",
       "  'name': 'Shay Cunliffe',\n",
       "  'original_name': 'Shay Cunliffe',\n",
       "  'popularity': 0.6000000000000001,\n",
       "  'profile_path': None,\n",
       "  'credit_id': '60884e262dda89007a4355d6',\n",
       "  'department': 'Costume & Make-Up',\n",
       "  'job': 'Costume Design'},\n",
       " {'adult': False,\n",
       "  'gender': 0,\n",
       "  'id': 20119,\n",
       "  'known_for_department': 'Production',\n",
       "  'name': 'Graham Cottle',\n",
       "  'original_name': 'Graham Cottle',\n",
       "  'popularity': 0.6000000000000001,\n",
       "  'profile_path': None,\n",
       "  'credit_id': '55b515359251411e0f014bb1',\n",
       "  'department': 'Production',\n",
       "  'job': 'Co-Producer'},\n",
       " {'adult': False,\n",
       "  'gender': 0,\n",
       "  'id': 22055,\n",
       "  'known_for_department': 'Production',\n",
       "  'name': 'Billy DaMota',\n",
       "  'original_name': 'Billy DaMota',\n",
       "  'popularity': 0.6000000000000001,\n",
       "  'profile_path': None,\n",
       "  'credit_id': '55c37cf49251413ee1002349',\n",
       "  'department': 'Production',\n",
       "  'job': 'Casting'},\n",
       " {'adult': False,\n",
       "  'gender': 0,\n",
       "  'id': 32280,\n",
       "  'known_for_department': 'Costume & Make-Up',\n",
       "  'name': 'Gandhi Bob Arrollo',\n",
       "  'original_name': 'Gandhi Bob Arrollo',\n",
       "  'popularity': 7.091,\n",
       "  'profile_path': None,\n",
       "  'credit_id': '60884e339a8a8a00289146f8',\n",
       "  'department': 'Costume & Make-Up',\n",
       "  'job': 'Makeup Designer'},\n",
       " {'adult': False,\n",
       "  'gender': 1,\n",
       "  'id': 39032,\n",
       "  'known_for_department': 'Production',\n",
       "  'name': 'Lauren Lloyd',\n",
       "  'original_name': 'Lauren Lloyd',\n",
       "  'popularity': 2.528,\n",
       "  'profile_path': '/3HMiRmom4Yo3sJanVCnXNURpYSQ.jpg',\n",
       "  'credit_id': '55b515cf9251411e18014258',\n",
       "  'department': 'Production',\n",
       "  'job': 'Casting'},\n",
       " {'adult': False,\n",
       "  'gender': 2,\n",
       "  'id': 48070,\n",
       "  'known_for_department': 'Editing',\n",
       "  'name': 'Stephen Semel',\n",
       "  'original_name': 'Stephen Semel',\n",
       "  'popularity': 2.093,\n",
       "  'profile_path': '/pXmIpdDP88G9hwfxQ4BUbF4zKJb.jpg',\n",
       "  'credit_id': '55b5158c9251411e14014ddd',\n",
       "  'department': 'Editing',\n",
       "  'job': 'Editor'},\n",
       " {'adult': False,\n",
       "  'gender': 0,\n",
       "  'id': 64728,\n",
       "  'known_for_department': 'Editing',\n",
       "  'name': 'Martin Jay Sadoff',\n",
       "  'original_name': 'Martin Jay Sadoff',\n",
       "  'popularity': 0.6000000000000001,\n",
       "  'profile_path': None,\n",
       "  'credit_id': '60884ff7b6abc4003fa3591c',\n",
       "  'department': 'Visual Effects',\n",
       "  'job': 'Visual Effects Supervisor'},\n",
       " {'adult': False,\n",
       "  'gender': 2,\n",
       "  'id': 69600,\n",
       "  'known_for_department': 'Acting',\n",
       "  'name': 'Edgar Froese',\n",
       "  'original_name': 'Edgar Froese',\n",
       "  'popularity': 1.166,\n",
       "  'profile_path': '/n0sEKvvGRn6lWX3flPjsaf9fmaU.jpg',\n",
       "  'credit_id': '5eb88d07bbe1dd0021849bf5',\n",
       "  'department': 'Sound',\n",
       "  'job': 'Original Music Composer'},\n",
       " {'adult': False,\n",
       "  'gender': 2,\n",
       "  'id': 84906,\n",
       "  'known_for_department': 'Directing',\n",
       "  'name': 'Steve De Jarnatt',\n",
       "  'original_name': 'Steve De Jarnatt',\n",
       "  'popularity': 0.652,\n",
       "  'profile_path': '/gLg6YvT67i9LvfFsICYC9dESwS4.jpg',\n",
       "  'credit_id': '52fe44a6c3a368484e02f033',\n",
       "  'department': 'Directing',\n",
       "  'job': 'Director'},\n",
       " {'adult': False,\n",
       "  'gender': 2,\n",
       "  'id': 84906,\n",
       "  'known_for_department': 'Directing',\n",
       "  'name': 'Steve De Jarnatt',\n",
       "  'original_name': 'Steve De Jarnatt',\n",
       "  'popularity': 0.652,\n",
       "  'profile_path': '/gLg6YvT67i9LvfFsICYC9dESwS4.jpg',\n",
       "  'credit_id': '55b514f2c3a368210a006fee',\n",
       "  'department': 'Writing',\n",
       "  'job': 'Writer'},\n",
       " {'adult': False,\n",
       "  'gender': 0,\n",
       "  'id': 96089,\n",
       "  'known_for_department': 'Editing',\n",
       "  'name': 'Michael John Bateman',\n",
       "  'original_name': 'Michael John Bateman',\n",
       "  'popularity': 0.6000000000000001,\n",
       "  'profile_path': None,\n",
       "  'credit_id': '60884f3e55c92600592fe4d2',\n",
       "  'department': 'Sound',\n",
       "  'job': 'Sound Editor'},\n",
       " {'adult': False,\n",
       "  'gender': 0,\n",
       "  'id': 1318445,\n",
       "  'known_for_department': 'Costume & Make-Up',\n",
       "  'name': 'Jeanne Van Phue',\n",
       "  'original_name': 'Jeanne Van Phue',\n",
       "  'popularity': 0.6000000000000001,\n",
       "  'profile_path': None,\n",
       "  'credit_id': '60884e4284448e0041265a1f',\n",
       "  'department': 'Costume & Make-Up',\n",
       "  'job': 'Key Hair Stylist'},\n",
       " {'adult': False,\n",
       "  'gender': 0,\n",
       "  'id': 1338375,\n",
       "  'known_for_department': 'Crew',\n",
       "  'name': 'Robbie Knott',\n",
       "  'original_name': 'Robbie Knott',\n",
       "  'popularity': 0.6000000000000001,\n",
       "  'profile_path': None,\n",
       "  'credit_id': '6088500bcabfe4002950fed8',\n",
       "  'department': 'Crew',\n",
       "  'job': 'Special Effects Coordinator'},\n",
       " {'adult': False,\n",
       "  'gender': 0,\n",
       "  'id': 1370961,\n",
       "  'known_for_department': 'Sound',\n",
       "  'name': 'Michael P. Redbourn',\n",
       "  'original_name': 'Michael P. Redbourn',\n",
       "  'popularity': 0.6000000000000001,\n",
       "  'profile_path': None,\n",
       "  'credit_id': '60884f83ffc9de00406da43b',\n",
       "  'department': 'Sound',\n",
       "  'job': 'Supervising Sound Editor'},\n",
       " {'adult': False,\n",
       "  'gender': 2,\n",
       "  'id': 1399141,\n",
       "  'known_for_department': 'Sound',\n",
       "  'name': 'Michael Minkler',\n",
       "  'original_name': 'Michael Minkler',\n",
       "  'popularity': 1.4,\n",
       "  'profile_path': None,\n",
       "  'credit_id': '60884f710c27100028624b4f',\n",
       "  'department': 'Sound',\n",
       "  'job': 'Sound Re-Recording Mixer'},\n",
       " {'adult': False,\n",
       "  'gender': 2,\n",
       "  'id': 1446539,\n",
       "  'known_for_department': 'Art',\n",
       "  'name': 'Christopher Horner',\n",
       "  'original_name': 'Christopher Horner',\n",
       "  'popularity': 0.6000000000000001,\n",
       "  'profile_path': None,\n",
       "  'credit_id': '55b515e19251410457004cac',\n",
       "  'department': 'Art',\n",
       "  'job': 'Production Design'},\n",
       " {'adult': False,\n",
       "  'gender': 0,\n",
       "  'id': 1446993,\n",
       "  'known_for_department': 'Art',\n",
       "  'name': 'Paige Augustine',\n",
       "  'original_name': 'Paige Augustine',\n",
       "  'popularity': 0.6000000000000001,\n",
       "  'profile_path': None,\n",
       "  'credit_id': '60884e579a8a8a0058a0e942',\n",
       "  'department': 'Art',\n",
       "  'job': 'Set Dresser'},\n",
       " {'adult': False,\n",
       "  'gender': 0,\n",
       "  'id': 1490603,\n",
       "  'known_for_department': 'Production',\n",
       "  'name': 'Eileen Stringer',\n",
       "  'original_name': 'Eileen Stringer',\n",
       "  'popularity': 0.6000000000000001,\n",
       "  'profile_path': None,\n",
       "  'credit_id': '55b515479251410457004c9f',\n",
       "  'department': 'Production',\n",
       "  'job': 'Associate Producer'},\n",
       " {'adult': False,\n",
       "  'gender': 0,\n",
       "  'id': 1490604,\n",
       "  'known_for_department': 'Editing',\n",
       "  'name': 'Kathie Weaver',\n",
       "  'original_name': 'Kathie Weaver',\n",
       "  'popularity': 0.6000000000000001,\n",
       "  'profile_path': None,\n",
       "  'credit_id': '55b515a1c3a3682ff40178d7',\n",
       "  'department': 'Editing',\n",
       "  'job': 'Editor'},\n",
       " {'adult': False,\n",
       "  'gender': 2,\n",
       "  'id': 1648134,\n",
       "  'known_for_department': 'Art',\n",
       "  'name': 'Dan Perri',\n",
       "  'original_name': 'Dan Perri',\n",
       "  'popularity': 0.989,\n",
       "  'profile_path': None,\n",
       "  'credit_id': '5c15206292514132ba0abc8c',\n",
       "  'department': 'Art',\n",
       "  'job': 'Title Designer'},\n",
       " {'adult': False,\n",
       "  'gender': 1,\n",
       "  'id': 1753775,\n",
       "  'known_for_department': 'Production',\n",
       "  'name': 'Christine Bonnem',\n",
       "  'original_name': 'Christine Bonnem',\n",
       "  'popularity': 0.98,\n",
       "  'profile_path': None,\n",
       "  'credit_id': '60884e659a8a8a0058a0e952',\n",
       "  'department': 'Art',\n",
       "  'job': 'Set Dresser'},\n",
       " {'adult': False,\n",
       "  'gender': 1,\n",
       "  'id': 1832365,\n",
       "  'known_for_department': 'Art',\n",
       "  'name': 'Johnna Butler',\n",
       "  'original_name': 'Johnna Butler',\n",
       "  'popularity': 0.6000000000000001,\n",
       "  'profile_path': None,\n",
       "  'credit_id': '60884e7a0c27100040dae76a',\n",
       "  'department': 'Art',\n",
       "  'job': 'Set Decoration'},\n",
       " {'adult': False,\n",
       "  'gender': 1,\n",
       "  'id': 1891627,\n",
       "  'known_for_department': 'Art',\n",
       "  'name': 'Pamela Marcotte',\n",
       "  'original_name': 'Pamela Marcotte',\n",
       "  'popularity': 0.6000000000000001,\n",
       "  'profile_path': None,\n",
       "  'credit_id': '60884eef9a8a8a0058a0ea5f',\n",
       "  'department': 'Art',\n",
       "  'job': 'Assistant Art Director'},\n",
       " {'adult': False,\n",
       "  'gender': 0,\n",
       "  'id': 3069795,\n",
       "  'known_for_department': 'Art',\n",
       "  'name': 'Kara Hayak',\n",
       "  'original_name': 'Kara Hayak',\n",
       "  'popularity': 0.6000000000000001,\n",
       "  'profile_path': None,\n",
       "  'credit_id': '60884ec184448e0059f54ac2',\n",
       "  'department': 'Art',\n",
       "  'job': 'Set Dresser'},\n",
       " {'adult': False,\n",
       "  'gender': 0,\n",
       "  'id': 3069796,\n",
       "  'known_for_department': 'Art',\n",
       "  'name': 'Winter Horton',\n",
       "  'original_name': 'Winter Horton',\n",
       "  'popularity': 0.6000000000000001,\n",
       "  'profile_path': None,\n",
       "  'credit_id': '60884ece904f6d0058804672',\n",
       "  'department': 'Art',\n",
       "  'job': 'Set Dresser'},\n",
       " {'adult': False,\n",
       "  'gender': 0,\n",
       "  'id': 3069797,\n",
       "  'known_for_department': 'Art',\n",
       "  'name': 'Rob Kaplin',\n",
       "  'original_name': 'Rob Kaplin',\n",
       "  'popularity': 0.6000000000000001,\n",
       "  'profile_path': None,\n",
       "  'credit_id': '60884edfb6abc4005713bfc0',\n",
       "  'department': 'Art',\n",
       "  'job': 'Set Dresser'},\n",
       " {'adult': False,\n",
       "  'gender': 0,\n",
       "  'id': 3069799,\n",
       "  'known_for_department': 'Sound',\n",
       "  'name': 'Mortesa Rezvani',\n",
       "  'original_name': 'Mortesa Rezvani',\n",
       "  'popularity': 0.6000000000000001,\n",
       "  'profile_path': None,\n",
       "  'credit_id': '60884f902dda89002be6887f',\n",
       "  'department': 'Sound',\n",
       "  'job': 'Sound Mixer'},\n",
       " {'adult': False,\n",
       "  'gender': 0,\n",
       "  'id': 3069800,\n",
       "  'known_for_department': 'Sound',\n",
       "  'name': 'Daniel Spence',\n",
       "  'original_name': 'Daniel Spence',\n",
       "  'popularity': 0.6000000000000001,\n",
       "  'profile_path': None,\n",
       "  'credit_id': '60884fa62a210c0058d2c95b',\n",
       "  'department': 'Sound',\n",
       "  'job': 'Sound Editor'},\n",
       " {'adult': False,\n",
       "  'gender': 0,\n",
       "  'id': 3069801,\n",
       "  'known_for_department': 'Visual Effects',\n",
       "  'name': 'Jena Holman',\n",
       "  'original_name': 'Jena Holman',\n",
       "  'popularity': 0.6000000000000001,\n",
       "  'profile_path': None,\n",
       "  'credit_id': '60884fdf2a210c0029e48a92',\n",
       "  'department': 'Visual Effects',\n",
       "  'job': 'Visual Effects Supervisor'}]"
      ]
     },
     "execution_count": 71,
     "metadata": {},
     "output_type": "execute_result"
    }
   ],
   "source": [
    "train_df.loc[19361, 'crew']"
   ]
  },
  {
   "cell_type": "code",
   "execution_count": 72,
   "metadata": {},
   "outputs": [
    {
     "name": "stdout",
     "output_type": "stream",
     "text": [
      "Number of crew members for the movies\n"
     ]
    },
    {
     "data": {
      "text/plain": [
       "24     34\n",
       "16     33\n",
       "9      31\n",
       "22     30\n",
       "8      27\n",
       "       ..\n",
       "727     1\n",
       "216     1\n",
       "279     1\n",
       "145     1\n",
       "245     1\n",
       "Name: crew, Length: 287, dtype: int64"
      ]
     },
     "execution_count": 72,
     "metadata": {},
     "output_type": "execute_result"
    }
   ],
   "source": [
    "print('Number of crew members for the movies')\n",
    "train_df['crew'].apply(lambda x: len(x) if x != [] else 0).value_counts()"
   ]
  },
  {
   "cell_type": "code",
   "execution_count": 73,
   "metadata": {},
   "outputs": [
    {
     "data": {
      "text/plain": [
       "[(\"Dan O'Connell\", 61),\n",
       " ('John T. Cucci', 57),\n",
       " ('Barbara Harris', 44),\n",
       " ('Steven Spielberg', 40),\n",
       " ('James Ashwill', 38),\n",
       " ('Hans Bjerno', 38),\n",
       " (\"Thomas J. O'Connell\", 37),\n",
       " ('Francine Maisler', 37),\n",
       " ('Mary Vernieu', 37),\n",
       " ('John Papsidera', 37),\n",
       " ('Stan Lee', 36),\n",
       " ('Chris Navarro', 34),\n",
       " ('John Roesch', 33),\n",
       " ('Harvey Weinstein', 32),\n",
       " ('Bob Weinstein', 31),\n",
       " ('Avy Kaufman', 28),\n",
       " ('Steven Mnuchin', 28),\n",
       " ('Tricia Wood', 28),\n",
       " ('Michael Miller', 27),\n",
       " ('Skip Lievsay', 27),\n",
       " ('Peter Burgis', 26),\n",
       " ('Jason Blum', 26),\n",
       " ('David B. Nowell', 26),\n",
       " ('Andy Nelson', 26),\n",
       " ('Deborah Aquila', 26),\n",
       " ('Anna Behlmer', 25),\n",
       " ('Gary Rydstrom', 24),\n",
       " ('Randy Thom', 24),\n",
       " ('Nerses Gezalyan', 24),\n",
       " ('John C. Stuver', 24)]"
      ]
     },
     "execution_count": 73,
     "metadata": {},
     "output_type": "execute_result"
    }
   ],
   "source": [
    "list_of_crew_names = list(\n",
    "    train_df['crew']\n",
    "    .apply(lambda x: [crew_member['name'] for crew_member in x] if x != [] else [])\n",
    "    .values\n",
    ")\n",
    "\n",
    "# We take the 30 most common crew members\n",
    "most_common_crew_members = Counter([crew_member for list_ in list_of_crew_names for crew_member in list_ ]).most_common(30)\n",
    "most_common_crew_members"
   ]
  },
  {
   "cell_type": "markdown",
   "metadata": {},
   "source": [
    "We add a feature `num_crew_members` which represents the number of crew members for the movie"
   ]
  },
  {
   "cell_type": "code",
   "execution_count": 74,
   "metadata": {},
   "outputs": [],
   "source": [
    "train_df['num_crew_members'] = train_df['crew'].apply(lambda x: len(x) if x != [] else 0)\n",
    "test_df['num_crew_members'] = test_df['crew'].apply(lambda x: len(x) if x != [] else 0)"
   ]
  },
  {
   "cell_type": "markdown",
   "metadata": {},
   "source": [
    "We encode the most common casted persons as features."
   ]
  },
  {
   "cell_type": "code",
   "execution_count": 75,
   "metadata": {},
   "outputs": [],
   "source": [
    "# We get the names of all the crew members for the movie\n",
    "train_df['all_crew_members'] = (\n",
    "    train_df['crew']\n",
    "    .apply(lambda x: [crew_member['name'] for crew_member in x] if x != [] else [])\n",
    ")\n",
    "\n",
    "# Then for each one of the 30 most common crew members, we look up if it is part \n",
    "# of the crew members for the movie\n",
    "top_crew_members = [crew_member[0] for crew_member in most_common_crew_members]\n",
    "\n",
    "for crew_member in top_crew_members:\n",
    "    train_df['crew_' + '_'.join(crew_member.lower().split())] = (\n",
    "        train_df['all_crew_members']\n",
    "        .apply(lambda x: 1 if crew_member in x else 0)\n",
    "    )"
   ]
  },
  {
   "cell_type": "code",
   "execution_count": 76,
   "metadata": {},
   "outputs": [],
   "source": [
    "# We get the names of all the crew members for the movie\n",
    "test_df['all_crew_members'] = (\n",
    "    test_df['crew']\n",
    "    .apply(lambda x: [crew_member['name'] for crew_member in x] if x != [] else [])\n",
    ")\n",
    "\n",
    "# Then for each one of the 30 most common crew members, we look up if it is part \n",
    "# of the crew members for the movie\n",
    "\n",
    "for crew_member in top_crew_members:\n",
    "    test_df['crew_' + '_'.join(crew_member.lower().split())] = (\n",
    "        test_df['all_crew_members']\n",
    "        .apply(lambda x: 1 if crew_member in x else 0)\n",
    "    )"
   ]
  },
  {
   "cell_type": "markdown",
   "metadata": {},
   "source": [
    "For each one of the 30 most common crew memebers we have a boolean feature equals to 1 if the person is in the crew of the movie. We can drop the initial column."
   ]
  },
  {
   "cell_type": "code",
   "execution_count": 77,
   "metadata": {},
   "outputs": [],
   "source": [
    "train_df.drop(columns=['crew', 'all_crew_members'], inplace=True)\n",
    "test_df.drop(columns=['crew', 'all_crew_members'], inplace=True)"
   ]
  },
  {
   "cell_type": "markdown",
   "metadata": {},
   "source": [
    "## 3. Preprocessing"
   ]
  },
  {
   "cell_type": "code",
   "execution_count": 78,
   "metadata": {},
   "outputs": [
    {
     "data": {
      "text/html": [
       "<div>\n",
       "<style scoped>\n",
       "    .dataframe tbody tr th:only-of-type {\n",
       "        vertical-align: middle;\n",
       "    }\n",
       "\n",
       "    .dataframe tbody tr th {\n",
       "        vertical-align: top;\n",
       "    }\n",
       "\n",
       "    .dataframe thead th {\n",
       "        text-align: right;\n",
       "    }\n",
       "</style>\n",
       "<table border=\"1\" class=\"dataframe\">\n",
       "  <thead>\n",
       "    <tr style=\"text-align: right;\">\n",
       "      <th></th>\n",
       "      <th>id</th>\n",
       "      <th>original_title</th>\n",
       "      <th>release_date</th>\n",
       "      <th>runtime</th>\n",
       "      <th>budget</th>\n",
       "      <th>original_language</th>\n",
       "      <th>revenue</th>\n",
       "      <th>class</th>\n",
       "      <th>release_year</th>\n",
       "      <th>release_month</th>\n",
       "      <th>...</th>\n",
       "      <th>crew_peter_burgis</th>\n",
       "      <th>crew_jason_blum</th>\n",
       "      <th>crew_david_b._nowell</th>\n",
       "      <th>crew_andy_nelson</th>\n",
       "      <th>crew_deborah_aquila</th>\n",
       "      <th>crew_anna_behlmer</th>\n",
       "      <th>crew_gary_rydstrom</th>\n",
       "      <th>crew_randy_thom</th>\n",
       "      <th>crew_nerses_gezalyan</th>\n",
       "      <th>crew_john_c._stuver</th>\n",
       "    </tr>\n",
       "  </thead>\n",
       "  <tbody>\n",
       "    <tr>\n",
       "      <th>26128</th>\n",
       "      <td>603</td>\n",
       "      <td>The Matrix</td>\n",
       "      <td>1999-03-30</td>\n",
       "      <td>136.0</td>\n",
       "      <td>63000000</td>\n",
       "      <td>en</td>\n",
       "      <td>463517383</td>\n",
       "      <td>1</td>\n",
       "      <td>1999</td>\n",
       "      <td>3</td>\n",
       "      <td>...</td>\n",
       "      <td>0</td>\n",
       "      <td>0</td>\n",
       "      <td>0</td>\n",
       "      <td>0</td>\n",
       "      <td>0</td>\n",
       "      <td>0</td>\n",
       "      <td>0</td>\n",
       "      <td>0</td>\n",
       "      <td>0</td>\n",
       "      <td>0</td>\n",
       "    </tr>\n",
       "    <tr>\n",
       "      <th>211</th>\n",
       "      <td>218043</td>\n",
       "      <td>Left Behind</td>\n",
       "      <td>2014-10-03</td>\n",
       "      <td>110.0</td>\n",
       "      <td>16000000</td>\n",
       "      <td>en</td>\n",
       "      <td>19682924</td>\n",
       "      <td>0</td>\n",
       "      <td>2014</td>\n",
       "      <td>10</td>\n",
       "      <td>...</td>\n",
       "      <td>0</td>\n",
       "      <td>0</td>\n",
       "      <td>0</td>\n",
       "      <td>0</td>\n",
       "      <td>0</td>\n",
       "      <td>0</td>\n",
       "      <td>0</td>\n",
       "      <td>0</td>\n",
       "      <td>0</td>\n",
       "      <td>0</td>\n",
       "    </tr>\n",
       "    <tr>\n",
       "      <th>838</th>\n",
       "      <td>14746</td>\n",
       "      <td>Streets of Fire</td>\n",
       "      <td>1984-06-01</td>\n",
       "      <td>93.0</td>\n",
       "      <td>14500000</td>\n",
       "      <td>en</td>\n",
       "      <td>8089290</td>\n",
       "      <td>0</td>\n",
       "      <td>1984</td>\n",
       "      <td>6</td>\n",
       "      <td>...</td>\n",
       "      <td>0</td>\n",
       "      <td>0</td>\n",
       "      <td>0</td>\n",
       "      <td>0</td>\n",
       "      <td>0</td>\n",
       "      <td>0</td>\n",
       "      <td>0</td>\n",
       "      <td>0</td>\n",
       "      <td>0</td>\n",
       "      <td>0</td>\n",
       "    </tr>\n",
       "    <tr>\n",
       "      <th>19288</th>\n",
       "      <td>513434</td>\n",
       "      <td>カメラを止めるな！</td>\n",
       "      <td>2017-11-04</td>\n",
       "      <td>96.0</td>\n",
       "      <td>30000</td>\n",
       "      <td>ja</td>\n",
       "      <td>200000000</td>\n",
       "      <td>1</td>\n",
       "      <td>2017</td>\n",
       "      <td>11</td>\n",
       "      <td>...</td>\n",
       "      <td>0</td>\n",
       "      <td>0</td>\n",
       "      <td>0</td>\n",
       "      <td>0</td>\n",
       "      <td>0</td>\n",
       "      <td>0</td>\n",
       "      <td>0</td>\n",
       "      <td>0</td>\n",
       "      <td>0</td>\n",
       "      <td>0</td>\n",
       "    </tr>\n",
       "    <tr>\n",
       "      <th>18438</th>\n",
       "      <td>14564</td>\n",
       "      <td>Rings</td>\n",
       "      <td>2017-02-01</td>\n",
       "      <td>102.0</td>\n",
       "      <td>25000000</td>\n",
       "      <td>en</td>\n",
       "      <td>83080890</td>\n",
       "      <td>1</td>\n",
       "      <td>2017</td>\n",
       "      <td>2</td>\n",
       "      <td>...</td>\n",
       "      <td>0</td>\n",
       "      <td>0</td>\n",
       "      <td>0</td>\n",
       "      <td>0</td>\n",
       "      <td>0</td>\n",
       "      <td>0</td>\n",
       "      <td>0</td>\n",
       "      <td>0</td>\n",
       "      <td>0</td>\n",
       "      <td>0</td>\n",
       "    </tr>\n",
       "  </tbody>\n",
       "</table>\n",
       "<p>5 rows × 178 columns</p>\n",
       "</div>"
      ],
      "text/plain": [
       "           id   original_title release_date  runtime    budget  \\\n",
       "26128     603       The Matrix   1999-03-30    136.0  63000000   \n",
       "211    218043      Left Behind   2014-10-03    110.0  16000000   \n",
       "838     14746  Streets of Fire   1984-06-01     93.0  14500000   \n",
       "19288  513434        カメラを止めるな！   2017-11-04     96.0     30000   \n",
       "18438   14564            Rings   2017-02-01    102.0  25000000   \n",
       "\n",
       "      original_language    revenue  class  release_year  release_month  ...  \\\n",
       "26128                en  463517383      1          1999              3  ...   \n",
       "211                  en   19682924      0          2014             10  ...   \n",
       "838                  en    8089290      0          1984              6  ...   \n",
       "19288                ja  200000000      1          2017             11  ...   \n",
       "18438                en   83080890      1          2017              2  ...   \n",
       "\n",
       "       crew_peter_burgis  crew_jason_blum crew_david_b._nowell  \\\n",
       "26128                  0                0                    0   \n",
       "211                    0                0                    0   \n",
       "838                    0                0                    0   \n",
       "19288                  0                0                    0   \n",
       "18438                  0                0                    0   \n",
       "\n",
       "       crew_andy_nelson  crew_deborah_aquila  crew_anna_behlmer  \\\n",
       "26128                 0                    0                  0   \n",
       "211                   0                    0                  0   \n",
       "838                   0                    0                  0   \n",
       "19288                 0                    0                  0   \n",
       "18438                 0                    0                  0   \n",
       "\n",
       "       crew_gary_rydstrom  crew_randy_thom  crew_nerses_gezalyan  \\\n",
       "26128                   0                0                     0   \n",
       "211                     0                0                     0   \n",
       "838                     0                0                     0   \n",
       "19288                   0                0                     0   \n",
       "18438                   0                0                     0   \n",
       "\n",
       "       crew_john_c._stuver  \n",
       "26128                    0  \n",
       "211                      0  \n",
       "838                      0  \n",
       "19288                    0  \n",
       "18438                    0  \n",
       "\n",
       "[5 rows x 178 columns]"
      ]
     },
     "execution_count": 78,
     "metadata": {},
     "output_type": "execute_result"
    }
   ],
   "source": [
    "train_df.head()"
   ]
  },
  {
   "cell_type": "code",
   "execution_count": 79,
   "metadata": {},
   "outputs": [
    {
     "data": {
      "text/plain": [
       "Index(['id', 'original_title', 'release_date', 'runtime', 'budget',\n",
       "       'original_language', 'revenue', 'class', 'release_year',\n",
       "       'release_month', 'release_day', 'release_weekday', 'collection_name',\n",
       "       'has_collection', 'has_homepage', 'has_a_tagline', 'num_languages',\n",
       "       'language_english', 'language_french', 'language_spanish'],\n",
       "      dtype='object')"
      ]
     },
     "execution_count": 79,
     "metadata": {},
     "output_type": "execute_result"
    }
   ],
   "source": [
    "train_df.columns[:20]"
   ]
  },
  {
   "cell_type": "code",
   "execution_count": 80,
   "metadata": {},
   "outputs": [],
   "source": [
    "train_df = train_df.reset_index(drop=True)\n",
    "test_df = test_df.reset_index(drop=True)"
   ]
  },
  {
   "cell_type": "code",
   "execution_count": 81,
   "metadata": {},
   "outputs": [],
   "source": [
    "y_train = train_df['class'].copy()\n",
    "y_test = test_df['class'].copy()"
   ]
  },
  {
   "cell_type": "code",
   "execution_count": 82,
   "metadata": {},
   "outputs": [],
   "source": [
    "info_columns = ['id', 'original_title', 'release_date']\n",
    "\n",
    "test_info_df = train_df[info_columns].copy()\n",
    "test_info_df = test_df[info_columns].copy()\n",
    "\n",
    "train_df.drop(columns=info_columns+['revenue','class'], inplace=True)\n",
    "test_df.drop(columns=info_columns+['revenue','class'], inplace=True)"
   ]
  },
  {
   "cell_type": "code",
   "execution_count": 83,
   "metadata": {},
   "outputs": [
    {
     "data": {
      "text/html": [
       "<div>\n",
       "<style scoped>\n",
       "    .dataframe tbody tr th:only-of-type {\n",
       "        vertical-align: middle;\n",
       "    }\n",
       "\n",
       "    .dataframe tbody tr th {\n",
       "        vertical-align: top;\n",
       "    }\n",
       "\n",
       "    .dataframe thead th {\n",
       "        text-align: right;\n",
       "    }\n",
       "</style>\n",
       "<table border=\"1\" class=\"dataframe\">\n",
       "  <thead>\n",
       "    <tr style=\"text-align: right;\">\n",
       "      <th></th>\n",
       "      <th>runtime</th>\n",
       "      <th>budget</th>\n",
       "      <th>original_language</th>\n",
       "      <th>release_year</th>\n",
       "      <th>release_month</th>\n",
       "      <th>release_day</th>\n",
       "      <th>release_weekday</th>\n",
       "      <th>collection_name</th>\n",
       "      <th>has_collection</th>\n",
       "      <th>has_homepage</th>\n",
       "      <th>...</th>\n",
       "      <th>crew_peter_burgis</th>\n",
       "      <th>crew_jason_blum</th>\n",
       "      <th>crew_david_b._nowell</th>\n",
       "      <th>crew_andy_nelson</th>\n",
       "      <th>crew_deborah_aquila</th>\n",
       "      <th>crew_anna_behlmer</th>\n",
       "      <th>crew_gary_rydstrom</th>\n",
       "      <th>crew_randy_thom</th>\n",
       "      <th>crew_nerses_gezalyan</th>\n",
       "      <th>crew_john_c._stuver</th>\n",
       "    </tr>\n",
       "  </thead>\n",
       "  <tbody>\n",
       "    <tr>\n",
       "      <th>0</th>\n",
       "      <td>136.0</td>\n",
       "      <td>63000000</td>\n",
       "      <td>en</td>\n",
       "      <td>1999</td>\n",
       "      <td>3</td>\n",
       "      <td>30</td>\n",
       "      <td>1</td>\n",
       "      <td>The Matrix Collection</td>\n",
       "      <td>1</td>\n",
       "      <td>1</td>\n",
       "      <td>...</td>\n",
       "      <td>0</td>\n",
       "      <td>0</td>\n",
       "      <td>0</td>\n",
       "      <td>0</td>\n",
       "      <td>0</td>\n",
       "      <td>0</td>\n",
       "      <td>0</td>\n",
       "      <td>0</td>\n",
       "      <td>0</td>\n",
       "      <td>0</td>\n",
       "    </tr>\n",
       "    <tr>\n",
       "      <th>1</th>\n",
       "      <td>110.0</td>\n",
       "      <td>16000000</td>\n",
       "      <td>en</td>\n",
       "      <td>2014</td>\n",
       "      <td>10</td>\n",
       "      <td>3</td>\n",
       "      <td>4</td>\n",
       "      <td></td>\n",
       "      <td>0</td>\n",
       "      <td>1</td>\n",
       "      <td>...</td>\n",
       "      <td>0</td>\n",
       "      <td>0</td>\n",
       "      <td>0</td>\n",
       "      <td>0</td>\n",
       "      <td>0</td>\n",
       "      <td>0</td>\n",
       "      <td>0</td>\n",
       "      <td>0</td>\n",
       "      <td>0</td>\n",
       "      <td>0</td>\n",
       "    </tr>\n",
       "    <tr>\n",
       "      <th>2</th>\n",
       "      <td>93.0</td>\n",
       "      <td>14500000</td>\n",
       "      <td>en</td>\n",
       "      <td>1984</td>\n",
       "      <td>6</td>\n",
       "      <td>1</td>\n",
       "      <td>4</td>\n",
       "      <td></td>\n",
       "      <td>0</td>\n",
       "      <td>0</td>\n",
       "      <td>...</td>\n",
       "      <td>0</td>\n",
       "      <td>0</td>\n",
       "      <td>0</td>\n",
       "      <td>0</td>\n",
       "      <td>0</td>\n",
       "      <td>0</td>\n",
       "      <td>0</td>\n",
       "      <td>0</td>\n",
       "      <td>0</td>\n",
       "      <td>0</td>\n",
       "    </tr>\n",
       "    <tr>\n",
       "      <th>3</th>\n",
       "      <td>96.0</td>\n",
       "      <td>30000</td>\n",
       "      <td>ja</td>\n",
       "      <td>2017</td>\n",
       "      <td>11</td>\n",
       "      <td>4</td>\n",
       "      <td>5</td>\n",
       "      <td>One Cut of the Dead Collection</td>\n",
       "      <td>1</td>\n",
       "      <td>1</td>\n",
       "      <td>...</td>\n",
       "      <td>0</td>\n",
       "      <td>0</td>\n",
       "      <td>0</td>\n",
       "      <td>0</td>\n",
       "      <td>0</td>\n",
       "      <td>0</td>\n",
       "      <td>0</td>\n",
       "      <td>0</td>\n",
       "      <td>0</td>\n",
       "      <td>0</td>\n",
       "    </tr>\n",
       "    <tr>\n",
       "      <th>4</th>\n",
       "      <td>102.0</td>\n",
       "      <td>25000000</td>\n",
       "      <td>en</td>\n",
       "      <td>2017</td>\n",
       "      <td>2</td>\n",
       "      <td>1</td>\n",
       "      <td>2</td>\n",
       "      <td>The Ring Collection</td>\n",
       "      <td>1</td>\n",
       "      <td>1</td>\n",
       "      <td>...</td>\n",
       "      <td>0</td>\n",
       "      <td>0</td>\n",
       "      <td>0</td>\n",
       "      <td>0</td>\n",
       "      <td>0</td>\n",
       "      <td>0</td>\n",
       "      <td>0</td>\n",
       "      <td>0</td>\n",
       "      <td>0</td>\n",
       "      <td>0</td>\n",
       "    </tr>\n",
       "  </tbody>\n",
       "</table>\n",
       "<p>5 rows × 173 columns</p>\n",
       "</div>"
      ],
      "text/plain": [
       "   runtime    budget original_language  release_year  release_month  \\\n",
       "0    136.0  63000000                en          1999              3   \n",
       "1    110.0  16000000                en          2014             10   \n",
       "2     93.0  14500000                en          1984              6   \n",
       "3     96.0     30000                ja          2017             11   \n",
       "4    102.0  25000000                en          2017              2   \n",
       "\n",
       "   release_day  release_weekday                 collection_name  \\\n",
       "0           30                1           The Matrix Collection   \n",
       "1            3                4                                   \n",
       "2            1                4                                   \n",
       "3            4                5  One Cut of the Dead Collection   \n",
       "4            1                2             The Ring Collection   \n",
       "\n",
       "   has_collection  has_homepage  ...  crew_peter_burgis  crew_jason_blum  \\\n",
       "0               1             1  ...                  0                0   \n",
       "1               0             1  ...                  0                0   \n",
       "2               0             0  ...                  0                0   \n",
       "3               1             1  ...                  0                0   \n",
       "4               1             1  ...                  0                0   \n",
       "\n",
       "   crew_david_b._nowell  crew_andy_nelson  crew_deborah_aquila  \\\n",
       "0                     0                 0                    0   \n",
       "1                     0                 0                    0   \n",
       "2                     0                 0                    0   \n",
       "3                     0                 0                    0   \n",
       "4                     0                 0                    0   \n",
       "\n",
       "   crew_anna_behlmer  crew_gary_rydstrom  crew_randy_thom  \\\n",
       "0                  0                   0                0   \n",
       "1                  0                   0                0   \n",
       "2                  0                   0                0   \n",
       "3                  0                   0                0   \n",
       "4                  0                   0                0   \n",
       "\n",
       "   crew_nerses_gezalyan  crew_john_c._stuver  \n",
       "0                     0                    0  \n",
       "1                     0                    0  \n",
       "2                     0                    0  \n",
       "3                     0                    0  \n",
       "4                     0                    0  \n",
       "\n",
       "[5 rows x 173 columns]"
      ]
     },
     "execution_count": 83,
     "metadata": {},
     "output_type": "execute_result"
    }
   ],
   "source": [
    "train_df.head()"
   ]
  },
  {
   "cell_type": "markdown",
   "metadata": {},
   "source": [
    "### 3.1. Encode `collection_name` and `original_language`"
   ]
  },
  {
   "cell_type": "markdown",
   "metadata": {},
   "source": [
    "We will use OneHotEncoding for these two features."
   ]
  },
  {
   "cell_type": "code",
   "execution_count": 84,
   "metadata": {},
   "outputs": [],
   "source": [
    "train_df['collection_name'] = train_df['collection_name'].apply(lambda x: '_'.join(x.lower().split()))\n",
    "test_df['collection_name'] = test_df['collection_name'].apply(lambda x: '_'.join(x.lower().split()))"
   ]
  },
  {
   "cell_type": "code",
   "execution_count": 85,
   "metadata": {},
   "outputs": [
    {
     "name": "stderr",
     "output_type": "stream",
     "text": [
      "/opt/anaconda3/lib/python3.9/site-packages/sklearn/utils/deprecation.py:87: FutureWarning: Function get_feature_names is deprecated; get_feature_names is deprecated in 1.0 and will be removed in 1.2. Please use get_feature_names_out instead.\n",
      "  warnings.warn(msg, category=FutureWarning)\n"
     ]
    }
   ],
   "source": [
    "categorical_cols =['original_language', 'collection_name']\n",
    "\n",
    "one_hot_encoder = OneHotEncoder(sparse=False, handle_unknown='ignore')\n",
    "one_hot_encoder.fit(train_df[categorical_cols])\n",
    "\n",
    "encoded_cols = list(one_hot_encoder.get_feature_names(categorical_cols))"
   ]
  },
  {
   "cell_type": "code",
   "execution_count": 86,
   "metadata": {},
   "outputs": [
    {
     "name": "stderr",
     "output_type": "stream",
     "text": [
      "/opt/anaconda3/lib/python3.9/site-packages/pandas/core/frame.py:3678: PerformanceWarning: DataFrame is highly fragmented.  This is usually the result of calling `frame.insert` many times, which has poor performance.  Consider joining all columns at once using pd.concat(axis=1) instead.  To get a de-fragmented frame, use `newframe = frame.copy()`\n",
      "  self[col] = igetitem(value, i)\n",
      "/opt/anaconda3/lib/python3.9/site-packages/pandas/core/frame.py:3678: PerformanceWarning: DataFrame is highly fragmented.  This is usually the result of calling `frame.insert` many times, which has poor performance.  Consider joining all columns at once using pd.concat(axis=1) instead.  To get a de-fragmented frame, use `newframe = frame.copy()`\n",
      "  self[col] = igetitem(value, i)\n"
     ]
    }
   ],
   "source": [
    "train_df[encoded_cols] = one_hot_encoder.transform(train_df[categorical_cols])\n",
    "test_df[encoded_cols] = one_hot_encoder.transform(test_df[categorical_cols])\n",
    "\n",
    "train_df.drop(columns=categorical_cols, inplace=True)\n",
    "test_df.drop(columns=categorical_cols, inplace=True)"
   ]
  },
  {
   "cell_type": "markdown",
   "metadata": {},
   "source": [
    "## 4. Model"
   ]
  },
  {
   "cell_type": "markdown",
   "metadata": {},
   "source": [
    "### 4.1 Model selection\n",
    "\n",
    "We use three different classifiers : a random forest, a gradient boosting classifier and an AdaBoost classifier. The three models are then aggregated in a voting classifier (hard voting) in order to try to improve the overall performances. The hyperparameter search is done using the `GridSearchCV` function that allows to find the best set of hyperparameters in a given grid."
   ]
  },
  {
   "cell_type": "code",
   "execution_count": 87,
   "metadata": {},
   "outputs": [],
   "source": [
    "clf1 = RandomForestClassifier(random_state=0)\n",
    "clf2 = GradientBoostingClassifier(random_state=0)\n",
    "clf3 = AdaBoostClassifier(random_state=0)\n",
    "eclf = VotingClassifier(estimators=[('rfc', clf1), ('gbc', clf2), ('adac', clf3)], voting='hard')\n",
    "\n",
    "params = {'rfc__max_depth': [5, 6, 7], \\\n",
    "    'gbc__n_estimators': [10, 100], 'gbc__max_depth' : [2, 3], \\\n",
    "    'adac__n_estimators' : [10, 100]}\n",
    "\n",
    "grid = GridSearchCV(estimator=eclf, scoring='accuracy', param_grid=params, cv=5)\n",
    "grid = grid.fit(train_df, y_train)\n",
    "best_model = grid.best_estimator_"
   ]
  },
  {
   "cell_type": "markdown",
   "metadata": {},
   "source": [
    "### 4.2 Model training\n",
    "\n",
    "Since we tuned the hyperparameters we select the best model and train it on our data."
   ]
  },
  {
   "cell_type": "code",
   "execution_count": 88,
   "metadata": {},
   "outputs": [],
   "source": [
    "best_model.fit(train_df, y_train)\n",
    "\n",
    "pred_train = best_model.predict(train_df).reshape(-1,1)\n",
    "pred_test = best_model.predict(test_df).reshape(-1,1)"
   ]
  },
  {
   "cell_type": "markdown",
   "metadata": {},
   "source": [
    "### 4.3 Model results"
   ]
  },
  {
   "cell_type": "code",
   "execution_count": 89,
   "metadata": {},
   "outputs": [
    {
     "name": "stdout",
     "output_type": "stream",
     "text": [
      "Train :  0.7658884565499352\n",
      "Test :  0.6973684210526315\n"
     ]
    }
   ],
   "source": [
    "train_acc = accuracy_score(y_train, pred_train)\n",
    "test_acc = accuracy_score(y_test, pred_test)\n",
    "\n",
    "print(\"Train : \", train_acc)\n",
    "print(\"Test : \", test_acc)"
   ]
  },
  {
   "cell_type": "markdown",
   "metadata": {},
   "source": [
    "We obtain an accuracy around $0.7$ which is far better than a random classifier but could probably be improved with more data. By the way we must note that the problem is difficult in itself since most of the features are categorical / textual, and we had to do a lot of feature engineering in order to obtain usable features."
   ]
  },
  {
   "cell_type": "markdown",
   "metadata": {},
   "source": [
    "### 4.4. Feature importances\n",
    "\n",
    "In this part we observe the role played by the features for all the three models we aggregated. "
   ]
  },
  {
   "cell_type": "code",
   "execution_count": 90,
   "metadata": {},
   "outputs": [],
   "source": [
    "rfc_feature_importances = best_model.estimators_[0].feature_importances_\n",
    "gbc_feature_importances = best_model.estimators_[1].feature_importances_\n",
    "adac_feature_importances = best_model.estimators_[2].feature_importances_"
   ]
  },
  {
   "cell_type": "code",
   "execution_count": 91,
   "metadata": {},
   "outputs": [
    {
     "data": {
      "image/png": "[encoded data removed]",
      "text/plain": [
       "<Figure size 432x288 with 1 Axes>"
      ]
     },
     "metadata": {
      "needs_background": "light"
     },
     "output_type": "display_data"
    },
    {
     "data": {
      "image/png": "[encoded data removed]",
      "text/plain": [
       "<Figure size 432x288 with 1 Axes>"
      ]
     },
     "metadata": {
      "needs_background": "light"
     },
     "output_type": "display_data"
    },
    {
     "data": {
      "image/png": "[encoded data removed]",
      "text/plain": [
       "<Figure size 432x288 with 1 Axes>"
      ]
     },
     "metadata": {
      "needs_background": "light"
     },
     "output_type": "display_data"
    }
   ],
   "source": [
    "model_names = [\"rfc\", \"gbc\", \"adac\"]\n",
    "inc = 0\n",
    "\n",
    "for feature_importances in [rfc_feature_importances, gbc_feature_importances, adac_feature_importances]:\n",
    "    \n",
    "    features_importance = pd.Series(\n",
    "        feature_importances,\n",
    "        index=list(train_df.columns)\n",
    "    ).sort_values(ascending=False)\n",
    "    features_importance[:20].plot.barh()\n",
    "\n",
    "    if model_names[inc] == \"rfc\":\n",
    "        plt.title(\"Random Forest Classifier - Feature importances\")\n",
    "    if model_names[inc] == \"gbc\":\n",
    "        plt.title(\"Gradient Boosting Classifier - Feature importances\")\n",
    "    if model_names[inc] == \"adac\":\n",
    "        plt.title(\"AdaBoost Classifier - Feature importances\")\n",
    "\n",
    "    plt.xlabel('Feature importances')\n",
    "    plt.show()\n",
    "    inc += 1"
   ]
  },
  {
   "cell_type": "markdown",
   "metadata": {},
   "source": [
    "We can observe that the three models have different features importance, nevertheless `budget`, `runtime`, `release_year`, `num_casted` and `num_crew_members` are often relevant features. \n",
    "\n",
    "Something interesting is that the variables related to the belonging to a collection are very important in the random forest classifier and the gradient boosting classifier, but it is not the case for the AdaBoost classifier, whereas we were expecting  very high relevance in all the classifiers ! (Indeed, great collections such as Star Wars, Lord of the Rings... are often very lucrative)."
   ]
  }
 ],
 "metadata": {
  "interpreter": {
   "hash": "c13f75b521158b36ba3ff4ac87dceddef9f3d5f34c1f5e4e80e856c73bb49853"
  },
  "kernelspec": {
   "display_name": "Python 3.8.8 ('base')",
   "language": "python",
   "name": "python3"
  },
  "language_info": {
   "codemirror_mode": {
    "name": "ipython",
    "version": 3
   },
   "file_extension": ".py",
   "mimetype": "text/x-python",
   "name": "python",
   "nbconvert_exporter": "python",
   "pygments_lexer": "ipython3",
   "version": "3.9.7"
  },
  "orig_nbformat": 4
 },
 "nbformat": 4,
 "nbformat_minor": 2
}
